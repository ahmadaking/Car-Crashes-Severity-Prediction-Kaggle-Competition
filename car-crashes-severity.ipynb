{
 "cells": [
  {
   "cell_type": "markdown",
   "id": "15c66e7e",
   "metadata": {
    "papermill": {
     "duration": 0.042182,
     "end_time": "2021-07-27T16:38:58.741363",
     "exception": false,
     "start_time": "2021-07-27T16:38:58.699181",
     "status": "completed"
    },
    "tags": []
   },
   "source": [
    "## You're here! \n",
    "Welcome to your first competition in the [ITI's AI Pro training program](https://ai.iti.gov.eg/epita/ai-engineer/)! We hope you enjoy and learn as much as we did prepairing this competition.\n",
    "\n",
    "\n",
    "## Introduction\n",
    "\n",
    "In the competition, it's required to predict the `Severity` of a car crash given info about the crash, e.g., location.\n",
    "\n",
    "This is the getting started notebook. Things are kept simple so that it's easier to understand the steps and modify it.\n",
    "\n",
    "Feel free to `Fork` this notebook and share it with your modifications **OR** use it to create your submissions.\n",
    "\n",
    "### Prerequisites\n",
    "You should know how to use python and a little bit of Machine Learning. You can apply the techniques you learned in the training program and submit the new solutions! \n",
    "\n",
    "### Checklist\n",
    "You can participate in this competition the way you perefer. However, I recommend following these steps if this is your first time joining a competition on Kaggle.\n",
    "\n",
    "* Fork this notebook and run the cells in order.\n",
    "* Submit this solution.\n",
    "* Make changes to the data processing step as you see fit.\n",
    "* Submit the new solutions.\n",
    "\n",
    "*You can submit up to 5 submissions per day. You can select only one of the submission you make to be considered in the final ranking.*\n",
    "\n",
    "\n",
    "Don't hesitate to leave a comment or contact me if you have any question!"
   ]
  },
  {
   "cell_type": "markdown",
   "id": "4799cfe5",
   "metadata": {
    "papermill": {
     "duration": 0.04052,
     "end_time": "2021-07-27T16:38:58.823932",
     "exception": false,
     "start_time": "2021-07-27T16:38:58.783412",
     "status": "completed"
    },
    "tags": []
   },
   "source": [
    "## Import the libraries\n",
    "\n",
    "We'll use `pandas` to load and manipulate the data. Other libraries will be imported in the relevant sections."
   ]
  },
  {
   "cell_type": "code",
   "execution_count": 1,
   "id": "de972ece",
   "metadata": {
    "_cell_guid": "b1076dfc-b9ad-4769-8c92-a6c4dae69d19",
    "_uuid": "8f2839f25d086af736a60e9eeb907d3b93b6e0e5",
    "execution": {
     "iopub.execute_input": "2021-07-27T16:38:58.913615Z",
     "iopub.status.busy": "2021-07-27T16:38:58.911795Z",
     "iopub.status.idle": "2021-07-27T16:39:00.226107Z",
     "shell.execute_reply": "2021-07-27T16:39:00.225203Z",
     "shell.execute_reply.started": "2021-07-27T16:38:22.927901Z"
    },
    "papermill": {
     "duration": 1.360312,
     "end_time": "2021-07-27T16:39:00.226292",
     "exception": false,
     "start_time": "2021-07-27T16:38:58.865980",
     "status": "completed"
    },
    "tags": []
   },
   "outputs": [],
   "source": [
    "%matplotlib inline\n",
    "from datetime import datetime\n",
    "import matplotlib.pyplot as plt\n",
    "import pandas as pd\n",
    "from sklearn.preprocessing import LabelEncoder\n",
    "from sklearn.cluster import KMeans\n",
    "import os\n",
    "import xml.etree.ElementTree as et"
   ]
  },
  {
   "cell_type": "code",
   "execution_count": 2,
   "id": "a686e505",
   "metadata": {
    "execution": {
     "iopub.execute_input": "2021-07-27T16:39:00.312048Z",
     "iopub.status.busy": "2021-07-27T16:39:00.311404Z",
     "iopub.status.idle": "2021-07-27T16:39:00.314841Z",
     "shell.execute_reply": "2021-07-27T16:39:00.315308Z",
     "shell.execute_reply.started": "2021-07-27T16:38:22.938355Z"
    },
    "papermill": {
     "duration": 0.04769,
     "end_time": "2021-07-27T16:39:00.315479",
     "exception": false,
     "start_time": "2021-07-27T16:39:00.267789",
     "status": "completed"
    },
    "tags": []
   },
   "outputs": [],
   "source": [
    "labelencoder = LabelEncoder()"
   ]
  },
  {
   "cell_type": "markdown",
   "id": "4d3be6bc",
   "metadata": {
    "papermill": {
     "duration": 0.040868,
     "end_time": "2021-07-27T16:39:00.397989",
     "exception": false,
     "start_time": "2021-07-27T16:39:00.357121",
     "status": "completed"
    },
    "tags": []
   },
   "source": [
    "## Exploratory Data Analysis\n",
    "In this step, one should load the data and analyze it. However, I'll load the data and do minimal analysis. You are encouraged to do thorough analysis!\n",
    "\n",
    "Let's load the data using `pandas` and have a look at the generated `DataFrame`."
   ]
  },
  {
   "cell_type": "code",
   "execution_count": 3,
   "id": "5afc3de7",
   "metadata": {
    "execution": {
     "iopub.execute_input": "2021-07-27T16:39:00.483863Z",
     "iopub.status.busy": "2021-07-27T16:39:00.483141Z",
     "iopub.status.idle": "2021-07-27T16:39:00.486378Z",
     "shell.execute_reply": "2021-07-27T16:39:00.486942Z",
     "shell.execute_reply.started": "2021-07-27T16:38:22.952258Z"
    },
    "papermill": {
     "duration": 0.047703,
     "end_time": "2021-07-27T16:39:00.487136",
     "exception": false,
     "start_time": "2021-07-27T16:39:00.439433",
     "status": "completed"
    },
    "tags": []
   },
   "outputs": [],
   "source": [
    "dataset_path = '/kaggle/input/car-crashes-severity-prediction/'"
   ]
  },
  {
   "cell_type": "code",
   "execution_count": 4,
   "id": "87d9daee",
   "metadata": {
    "execution": {
     "iopub.execute_input": "2021-07-27T16:39:00.572656Z",
     "iopub.status.busy": "2021-07-27T16:39:00.571952Z",
     "iopub.status.idle": "2021-07-27T16:39:00.648747Z",
     "shell.execute_reply": "2021-07-27T16:39:00.647838Z",
     "shell.execute_reply.started": "2021-07-27T16:38:22.971038Z"
    },
    "papermill": {
     "duration": 0.120752,
     "end_time": "2021-07-27T16:39:00.648943",
     "exception": false,
     "start_time": "2021-07-27T16:39:00.528191",
     "status": "completed"
    },
    "tags": []
   },
   "outputs": [
    {
     "name": "stdout",
     "output_type": "stream",
     "text": [
      "The shape of the dataset is (6407, 16).\n",
      "\n",
      "\n"
     ]
    },
    {
     "data": {
      "text/html": [
       "<div>\n",
       "<style scoped>\n",
       "    .dataframe tbody tr th:only-of-type {\n",
       "        vertical-align: middle;\n",
       "    }\n",
       "\n",
       "    .dataframe tbody tr th {\n",
       "        vertical-align: top;\n",
       "    }\n",
       "\n",
       "    .dataframe thead th {\n",
       "        text-align: right;\n",
       "    }\n",
       "</style>\n",
       "<table border=\"1\" class=\"dataframe\">\n",
       "  <thead>\n",
       "    <tr style=\"text-align: right;\">\n",
       "      <th></th>\n",
       "      <th>ID</th>\n",
       "      <th>Lat</th>\n",
       "      <th>Lng</th>\n",
       "      <th>Bump</th>\n",
       "      <th>Distance(mi)</th>\n",
       "      <th>Crossing</th>\n",
       "      <th>Give_Way</th>\n",
       "      <th>Junction</th>\n",
       "      <th>No_Exit</th>\n",
       "      <th>Railway</th>\n",
       "      <th>Roundabout</th>\n",
       "      <th>Stop</th>\n",
       "      <th>Amenity</th>\n",
       "      <th>Side</th>\n",
       "      <th>Severity</th>\n",
       "      <th>timestamp</th>\n",
       "    </tr>\n",
       "  </thead>\n",
       "  <tbody>\n",
       "    <tr>\n",
       "      <th>0</th>\n",
       "      <td>0</td>\n",
       "      <td>37.762150</td>\n",
       "      <td>-122.405660</td>\n",
       "      <td>False</td>\n",
       "      <td>0.044</td>\n",
       "      <td>False</td>\n",
       "      <td>False</td>\n",
       "      <td>False</td>\n",
       "      <td>False</td>\n",
       "      <td>False</td>\n",
       "      <td>False</td>\n",
       "      <td>False</td>\n",
       "      <td>True</td>\n",
       "      <td>R</td>\n",
       "      <td>2</td>\n",
       "      <td>2016-03-25 15:13:02</td>\n",
       "    </tr>\n",
       "    <tr>\n",
       "      <th>1</th>\n",
       "      <td>1</td>\n",
       "      <td>37.719157</td>\n",
       "      <td>-122.448254</td>\n",
       "      <td>False</td>\n",
       "      <td>0.000</td>\n",
       "      <td>False</td>\n",
       "      <td>False</td>\n",
       "      <td>False</td>\n",
       "      <td>False</td>\n",
       "      <td>False</td>\n",
       "      <td>False</td>\n",
       "      <td>False</td>\n",
       "      <td>False</td>\n",
       "      <td>R</td>\n",
       "      <td>2</td>\n",
       "      <td>2020-05-05 19:23:00</td>\n",
       "    </tr>\n",
       "    <tr>\n",
       "      <th>2</th>\n",
       "      <td>2</td>\n",
       "      <td>37.808498</td>\n",
       "      <td>-122.366852</td>\n",
       "      <td>False</td>\n",
       "      <td>0.000</td>\n",
       "      <td>False</td>\n",
       "      <td>False</td>\n",
       "      <td>False</td>\n",
       "      <td>False</td>\n",
       "      <td>False</td>\n",
       "      <td>False</td>\n",
       "      <td>True</td>\n",
       "      <td>False</td>\n",
       "      <td>R</td>\n",
       "      <td>3</td>\n",
       "      <td>2016-09-16 19:57:16</td>\n",
       "    </tr>\n",
       "    <tr>\n",
       "      <th>3</th>\n",
       "      <td>3</td>\n",
       "      <td>37.785930</td>\n",
       "      <td>-122.391080</td>\n",
       "      <td>False</td>\n",
       "      <td>0.009</td>\n",
       "      <td>False</td>\n",
       "      <td>False</td>\n",
       "      <td>True</td>\n",
       "      <td>False</td>\n",
       "      <td>False</td>\n",
       "      <td>False</td>\n",
       "      <td>False</td>\n",
       "      <td>False</td>\n",
       "      <td>R</td>\n",
       "      <td>1</td>\n",
       "      <td>2020-03-29 19:48:43</td>\n",
       "    </tr>\n",
       "    <tr>\n",
       "      <th>4</th>\n",
       "      <td>4</td>\n",
       "      <td>37.719141</td>\n",
       "      <td>-122.448457</td>\n",
       "      <td>False</td>\n",
       "      <td>0.000</td>\n",
       "      <td>False</td>\n",
       "      <td>False</td>\n",
       "      <td>False</td>\n",
       "      <td>False</td>\n",
       "      <td>False</td>\n",
       "      <td>False</td>\n",
       "      <td>False</td>\n",
       "      <td>False</td>\n",
       "      <td>R</td>\n",
       "      <td>2</td>\n",
       "      <td>2019-10-09 08:47:00</td>\n",
       "    </tr>\n",
       "  </tbody>\n",
       "</table>\n",
       "</div>"
      ],
      "text/plain": [
       "   ID        Lat         Lng   Bump  Distance(mi)  Crossing  Give_Way  \\\n",
       "0   0  37.762150 -122.405660  False         0.044     False     False   \n",
       "1   1  37.719157 -122.448254  False         0.000     False     False   \n",
       "2   2  37.808498 -122.366852  False         0.000     False     False   \n",
       "3   3  37.785930 -122.391080  False         0.009     False     False   \n",
       "4   4  37.719141 -122.448457  False         0.000     False     False   \n",
       "\n",
       "   Junction  No_Exit  Railway  Roundabout   Stop  Amenity Side  Severity  \\\n",
       "0     False    False    False       False  False     True    R         2   \n",
       "1     False    False    False       False  False    False    R         2   \n",
       "2     False    False    False       False   True    False    R         3   \n",
       "3      True    False    False       False  False    False    R         1   \n",
       "4     False    False    False       False  False    False    R         2   \n",
       "\n",
       "             timestamp  \n",
       "0  2016-03-25 15:13:02  \n",
       "1  2020-05-05 19:23:00  \n",
       "2  2016-09-16 19:57:16  \n",
       "3  2020-03-29 19:48:43  \n",
       "4  2019-10-09 08:47:00  "
      ]
     },
     "execution_count": 4,
     "metadata": {},
     "output_type": "execute_result"
    }
   ],
   "source": [
    "df = pd.read_csv(os.path.join(dataset_path, 'train.csv'))\n",
    "print(\"The shape of the dataset is {}.\\n\\n\".format(df.shape))\n",
    "df.head()"
   ]
  },
  {
   "cell_type": "markdown",
   "id": "1d7593e0",
   "metadata": {
    "papermill": {
     "duration": 0.041604,
     "end_time": "2021-07-27T16:39:00.733488",
     "exception": false,
     "start_time": "2021-07-27T16:39:00.691884",
     "status": "completed"
    },
    "tags": []
   },
   "source": [
    "We've got 6407 examples in the dataset with 14 featues, 1 ID, and the `Severity` of the crash.\n",
    "\n",
    "By looking at the features and a sample from the data, the features look of numerical and catogerical types. What about some descriptive statistics?"
   ]
  },
  {
   "cell_type": "code",
   "execution_count": 5,
   "id": "4607453a",
   "metadata": {
    "execution": {
     "iopub.execute_input": "2021-07-27T16:39:00.825274Z",
     "iopub.status.busy": "2021-07-27T16:39:00.824610Z",
     "iopub.status.idle": "2021-07-27T16:39:00.855387Z",
     "shell.execute_reply": "2021-07-27T16:39:00.855840Z",
     "shell.execute_reply.started": "2021-07-27T16:38:23.031797Z"
    },
    "papermill": {
     "duration": 0.080025,
     "end_time": "2021-07-27T16:39:00.856015",
     "exception": false,
     "start_time": "2021-07-27T16:39:00.775990",
     "status": "completed"
    },
    "tags": []
   },
   "outputs": [
    {
     "data": {
      "text/html": [
       "<div>\n",
       "<style scoped>\n",
       "    .dataframe tbody tr th:only-of-type {\n",
       "        vertical-align: middle;\n",
       "    }\n",
       "\n",
       "    .dataframe tbody tr th {\n",
       "        vertical-align: top;\n",
       "    }\n",
       "\n",
       "    .dataframe thead th {\n",
       "        text-align: right;\n",
       "    }\n",
       "</style>\n",
       "<table border=\"1\" class=\"dataframe\">\n",
       "  <thead>\n",
       "    <tr style=\"text-align: right;\">\n",
       "      <th></th>\n",
       "      <th>Lat</th>\n",
       "      <th>Lng</th>\n",
       "      <th>Distance(mi)</th>\n",
       "      <th>Severity</th>\n",
       "    </tr>\n",
       "  </thead>\n",
       "  <tbody>\n",
       "    <tr>\n",
       "      <th>count</th>\n",
       "      <td>6407.000000</td>\n",
       "      <td>6407.000000</td>\n",
       "      <td>6407.000000</td>\n",
       "      <td>6407.000000</td>\n",
       "    </tr>\n",
       "    <tr>\n",
       "      <th>mean</th>\n",
       "      <td>37.765653</td>\n",
       "      <td>-122.405990</td>\n",
       "      <td>0.135189</td>\n",
       "      <td>2.293429</td>\n",
       "    </tr>\n",
       "    <tr>\n",
       "      <th>std</th>\n",
       "      <td>0.032555</td>\n",
       "      <td>0.028275</td>\n",
       "      <td>0.396360</td>\n",
       "      <td>0.521225</td>\n",
       "    </tr>\n",
       "    <tr>\n",
       "      <th>min</th>\n",
       "      <td>37.609619</td>\n",
       "      <td>-122.510440</td>\n",
       "      <td>0.000000</td>\n",
       "      <td>1.000000</td>\n",
       "    </tr>\n",
       "    <tr>\n",
       "      <th>25%</th>\n",
       "      <td>37.737096</td>\n",
       "      <td>-122.412210</td>\n",
       "      <td>0.000000</td>\n",
       "      <td>2.000000</td>\n",
       "    </tr>\n",
       "    <tr>\n",
       "      <th>50%</th>\n",
       "      <td>37.768238</td>\n",
       "      <td>-122.404835</td>\n",
       "      <td>0.000000</td>\n",
       "      <td>2.000000</td>\n",
       "    </tr>\n",
       "    <tr>\n",
       "      <th>75%</th>\n",
       "      <td>37.787813</td>\n",
       "      <td>-122.392477</td>\n",
       "      <td>0.041000</td>\n",
       "      <td>3.000000</td>\n",
       "    </tr>\n",
       "    <tr>\n",
       "      <th>max</th>\n",
       "      <td>37.825626</td>\n",
       "      <td>-122.349734</td>\n",
       "      <td>6.820000</td>\n",
       "      <td>4.000000</td>\n",
       "    </tr>\n",
       "  </tbody>\n",
       "</table>\n",
       "</div>"
      ],
      "text/plain": [
       "               Lat          Lng  Distance(mi)     Severity\n",
       "count  6407.000000  6407.000000   6407.000000  6407.000000\n",
       "mean     37.765653  -122.405990      0.135189     2.293429\n",
       "std       0.032555     0.028275      0.396360     0.521225\n",
       "min      37.609619  -122.510440      0.000000     1.000000\n",
       "25%      37.737096  -122.412210      0.000000     2.000000\n",
       "50%      37.768238  -122.404835      0.000000     2.000000\n",
       "75%      37.787813  -122.392477      0.041000     3.000000\n",
       "max      37.825626  -122.349734      6.820000     4.000000"
      ]
     },
     "execution_count": 5,
     "metadata": {},
     "output_type": "execute_result"
    }
   ],
   "source": [
    "df.drop(columns='ID').describe()"
   ]
  },
  {
   "cell_type": "markdown",
   "id": "8230d1b8",
   "metadata": {
    "papermill": {
     "duration": 0.042056,
     "end_time": "2021-07-27T16:39:00.940576",
     "exception": false,
     "start_time": "2021-07-27T16:39:00.898520",
     "status": "completed"
    },
    "tags": []
   },
   "source": [
    "The output shows desciptive statistics for the numerical features, `Lat`, `Lng`, `Distance(mi)`, and `Severity`. I'll use the numerical features to demonstrate how to train the model and make submissions. **However you shouldn't use the numerical features only to make the final submission if you want to make it to the top of the leaderboard.**"
   ]
  },
  {
   "cell_type": "markdown",
   "id": "17a4fc1c",
   "metadata": {
    "papermill": {
     "duration": 0.042902,
     "end_time": "2021-07-27T16:39:01.027590",
     "exception": false,
     "start_time": "2021-07-27T16:39:00.984688",
     "status": "completed"
    },
    "tags": []
   },
   "source": [
    "### Remove columns with now effect"
   ]
  },
  {
   "cell_type": "code",
   "execution_count": 6,
   "id": "3f993eac",
   "metadata": {
    "execution": {
     "iopub.execute_input": "2021-07-27T16:39:01.116749Z",
     "iopub.status.busy": "2021-07-27T16:39:01.116121Z",
     "iopub.status.idle": "2021-07-27T16:39:01.120961Z",
     "shell.execute_reply": "2021-07-27T16:39:01.121488Z",
     "shell.execute_reply.started": "2021-07-27T16:38:23.069023Z"
    },
    "papermill": {
     "duration": 0.050744,
     "end_time": "2021-07-27T16:39:01.121663",
     "exception": false,
     "start_time": "2021-07-27T16:39:01.070919",
     "status": "completed"
    },
    "tags": []
   },
   "outputs": [],
   "source": [
    "df.drop(columns=['Bump','Roundabout'],inplace=True)"
   ]
  },
  {
   "cell_type": "markdown",
   "id": "6ca44b1a",
   "metadata": {
    "papermill": {
     "duration": 0.042253,
     "end_time": "2021-07-27T16:39:01.207345",
     "exception": false,
     "start_time": "2021-07-27T16:39:01.165092",
     "status": "completed"
    },
    "tags": []
   },
   "source": [
    "#### Format date data in the dataframe and extract the hour to match with weather data"
   ]
  },
  {
   "cell_type": "code",
   "execution_count": 7,
   "id": "ae89314a",
   "metadata": {
    "execution": {
     "iopub.execute_input": "2021-07-27T16:39:01.296039Z",
     "iopub.status.busy": "2021-07-27T16:39:01.295421Z",
     "iopub.status.idle": "2021-07-27T16:39:01.374991Z",
     "shell.execute_reply": "2021-07-27T16:39:01.374203Z",
     "shell.execute_reply.started": "2021-07-27T16:38:23.078453Z"
    },
    "papermill": {
     "duration": 0.124837,
     "end_time": "2021-07-27T16:39:01.375299",
     "exception": false,
     "start_time": "2021-07-27T16:39:01.250462",
     "status": "completed"
    },
    "tags": []
   },
   "outputs": [
    {
     "name": "stdout",
     "output_type": "stream",
     "text": [
      "<class 'pandas.core.frame.DataFrame'>\n",
      "RangeIndex: 6407 entries, 0 to 6406\n",
      "Data columns (total 15 columns):\n",
      " #   Column        Non-Null Count  Dtype         \n",
      "---  ------        --------------  -----         \n",
      " 0   ID            6407 non-null   int64         \n",
      " 1   Lat           6407 non-null   float64       \n",
      " 2   Lng           6407 non-null   float64       \n",
      " 3   Distance(mi)  6407 non-null   float64       \n",
      " 4   Crossing      6407 non-null   bool          \n",
      " 5   Give_Way      6407 non-null   bool          \n",
      " 6   Junction      6407 non-null   bool          \n",
      " 7   No_Exit       6407 non-null   bool          \n",
      " 8   Railway       6407 non-null   bool          \n",
      " 9   Stop          6407 non-null   bool          \n",
      " 10  Amenity       6407 non-null   bool          \n",
      " 11  Side          6407 non-null   object        \n",
      " 12  Severity      6407 non-null   int64         \n",
      " 13  timestamp     6407 non-null   datetime64[ns]\n",
      " 14  date_time     6407 non-null   datetime64[ns]\n",
      "dtypes: bool(7), datetime64[ns](2), float64(3), int64(2), object(1)\n",
      "memory usage: 444.4+ KB\n"
     ]
    }
   ],
   "source": [
    "df['timestamp']=pd.to_datetime(df['timestamp'])\n",
    "df['date_time']=pd.to_datetime(df['timestamp'].dt.strftime('%Y-%m-%d %H:00:00'))\n",
    "df.info()"
   ]
  },
  {
   "cell_type": "markdown",
   "id": "006d8cf0",
   "metadata": {
    "papermill": {
     "duration": 0.042676,
     "end_time": "2021-07-27T16:39:01.461907",
     "exception": false,
     "start_time": "2021-07-27T16:39:01.419231",
     "status": "completed"
    },
    "tags": []
   },
   "source": [
    "#### convert bool values to numeric int values for cleaning"
   ]
  },
  {
   "cell_type": "code",
   "execution_count": 8,
   "id": "fb6cbf65",
   "metadata": {
    "execution": {
     "iopub.execute_input": "2021-07-27T16:39:01.556978Z",
     "iopub.status.busy": "2021-07-27T16:39:01.556338Z",
     "iopub.status.idle": "2021-07-27T16:39:01.560577Z",
     "shell.execute_reply": "2021-07-27T16:39:01.561082Z",
     "shell.execute_reply.started": "2021-07-27T16:38:23.170721Z"
    },
    "papermill": {
     "duration": 0.0563,
     "end_time": "2021-07-27T16:39:01.561254",
     "exception": false,
     "start_time": "2021-07-27T16:39:01.504954",
     "status": "completed"
    },
    "tags": []
   },
   "outputs": [],
   "source": [
    "df['Crossing'] = df['Crossing'].astype(int)\n",
    "df['Give_Way'] = df['Give_Way'].astype(int)\n",
    "df['Junction'] = df['Junction'].astype(int)\n",
    "df['No_Exit'] = df['No_Exit'].astype(int)\n",
    "df['Railway'] = df['Railway'].astype(int)\n",
    "df['Stop'] = df['Stop'].astype(int)\n",
    "df['Amenity'] = df['Amenity'].astype(int)"
   ]
  },
  {
   "cell_type": "code",
   "execution_count": 9,
   "id": "b03ff375",
   "metadata": {
    "execution": {
     "iopub.execute_input": "2021-07-27T16:39:01.653146Z",
     "iopub.status.busy": "2021-07-27T16:39:01.652454Z",
     "iopub.status.idle": "2021-07-27T16:39:01.657888Z",
     "shell.execute_reply": "2021-07-27T16:39:01.658418Z",
     "shell.execute_reply.started": "2021-07-27T16:38:23.187032Z"
    },
    "papermill": {
     "duration": 0.054112,
     "end_time": "2021-07-27T16:39:01.658588",
     "exception": false,
     "start_time": "2021-07-27T16:39:01.604476",
     "status": "completed"
    },
    "tags": []
   },
   "outputs": [],
   "source": [
    "df = df[df.Severity.isin([2,3])]"
   ]
  },
  {
   "cell_type": "markdown",
   "id": "d639b3d9",
   "metadata": {
    "papermill": {
     "duration": 0.042985,
     "end_time": "2021-07-27T16:39:01.744442",
     "exception": false,
     "start_time": "2021-07-27T16:39:01.701457",
     "status": "completed"
    },
    "tags": []
   },
   "source": [
    "#### encode side data as numeric"
   ]
  },
  {
   "cell_type": "code",
   "execution_count": 10,
   "id": "07c49d2f",
   "metadata": {
    "execution": {
     "iopub.execute_input": "2021-07-27T16:39:01.838190Z",
     "iopub.status.busy": "2021-07-27T16:39:01.837496Z",
     "iopub.status.idle": "2021-07-27T16:39:01.840735Z",
     "shell.execute_reply": "2021-07-27T16:39:01.840229Z",
     "shell.execute_reply.started": "2021-07-27T16:38:23.202802Z"
    },
    "papermill": {
     "duration": 0.053655,
     "end_time": "2021-07-27T16:39:01.840874",
     "exception": false,
     "start_time": "2021-07-27T16:39:01.787219",
     "status": "completed"
    },
    "tags": []
   },
   "outputs": [],
   "source": [
    "df['Side'] = labelencoder.fit_transform(df['Side'])"
   ]
  },
  {
   "cell_type": "markdown",
   "id": "1823c1e7",
   "metadata": {
    "papermill": {
     "duration": 0.04328,
     "end_time": "2021-07-27T16:39:01.929714",
     "exception": false,
     "start_time": "2021-07-27T16:39:01.886434",
     "status": "completed"
    },
    "tags": []
   },
   "source": [
    "#### Clustring the lat and lng"
   ]
  },
  {
   "cell_type": "code",
   "execution_count": 11,
   "id": "9688c187",
   "metadata": {
    "execution": {
     "iopub.execute_input": "2021-07-27T16:39:02.021870Z",
     "iopub.status.busy": "2021-07-27T16:39:02.021212Z",
     "iopub.status.idle": "2021-07-27T16:39:02.023729Z",
     "shell.execute_reply": "2021-07-27T16:39:02.023180Z",
     "shell.execute_reply.started": "2021-07-27T16:38:23.220074Z"
    },
    "papermill": {
     "duration": 0.050134,
     "end_time": "2021-07-27T16:39:02.023869",
     "exception": false,
     "start_time": "2021-07-27T16:39:01.973735",
     "status": "completed"
    },
    "tags": []
   },
   "outputs": [],
   "source": [
    "# kmeans = KMeans(n_clusters = 3, init ='k-means++')\n",
    "# kmeans.fit(df[df.columns[1:3]])\n",
    "# df['lat_lang_clust'] = kmeans.fit_predict(df[df.columns[1:3]])\n",
    "# centers = kmeans.cluster_centers_ \n",
    "# labels = kmeans.predict(df[df.columns[1:3]])\n",
    "# df_merged.drop(columns=['Lat','Lng'],inplace=True)\n",
    "# df.head(10)"
   ]
  },
  {
   "cell_type": "code",
   "execution_count": 12,
   "id": "ca70e103",
   "metadata": {
    "execution": {
     "iopub.execute_input": "2021-07-27T16:39:02.119397Z",
     "iopub.status.busy": "2021-07-27T16:39:02.117264Z",
     "iopub.status.idle": "2021-07-27T16:39:02.122112Z",
     "shell.execute_reply": "2021-07-27T16:39:02.122654Z",
     "shell.execute_reply.started": "2021-07-27T16:38:23.234924Z"
    },
    "papermill": {
     "duration": 0.053753,
     "end_time": "2021-07-27T16:39:02.122822",
     "exception": false,
     "start_time": "2021-07-27T16:39:02.069069",
     "status": "completed"
    },
    "tags": []
   },
   "outputs": [
    {
     "data": {
      "text/plain": [
       "2    4346\n",
       "3    1855\n",
       "Name: Severity, dtype: int64"
      ]
     },
     "execution_count": 12,
     "metadata": {},
     "output_type": "execute_result"
    }
   ],
   "source": [
    "df.Severity.value_counts()"
   ]
  },
  {
   "cell_type": "code",
   "execution_count": 13,
   "id": "96c3edff",
   "metadata": {
    "execution": {
     "iopub.execute_input": "2021-07-27T16:39:02.213699Z",
     "iopub.status.busy": "2021-07-27T16:39:02.213077Z",
     "iopub.status.idle": "2021-07-27T16:39:02.231282Z",
     "shell.execute_reply": "2021-07-27T16:39:02.231790Z",
     "shell.execute_reply.started": "2021-07-27T16:38:23.255323Z"
    },
    "papermill": {
     "duration": 0.06475,
     "end_time": "2021-07-27T16:39:02.231999",
     "exception": false,
     "start_time": "2021-07-27T16:39:02.167249",
     "status": "completed"
    },
    "tags": []
   },
   "outputs": [
    {
     "data": {
      "text/html": [
       "<div>\n",
       "<style scoped>\n",
       "    .dataframe tbody tr th:only-of-type {\n",
       "        vertical-align: middle;\n",
       "    }\n",
       "\n",
       "    .dataframe tbody tr th {\n",
       "        vertical-align: top;\n",
       "    }\n",
       "\n",
       "    .dataframe thead th {\n",
       "        text-align: right;\n",
       "    }\n",
       "</style>\n",
       "<table border=\"1\" class=\"dataframe\">\n",
       "  <thead>\n",
       "    <tr style=\"text-align: right;\">\n",
       "      <th></th>\n",
       "      <th>ID</th>\n",
       "      <th>Lat</th>\n",
       "      <th>Lng</th>\n",
       "      <th>Distance(mi)</th>\n",
       "      <th>Crossing</th>\n",
       "      <th>Give_Way</th>\n",
       "      <th>Junction</th>\n",
       "      <th>No_Exit</th>\n",
       "      <th>Railway</th>\n",
       "      <th>Stop</th>\n",
       "      <th>Amenity</th>\n",
       "      <th>Side</th>\n",
       "      <th>Severity</th>\n",
       "      <th>timestamp</th>\n",
       "      <th>date_time</th>\n",
       "    </tr>\n",
       "  </thead>\n",
       "  <tbody>\n",
       "    <tr>\n",
       "      <th>0</th>\n",
       "      <td>0</td>\n",
       "      <td>37.762150</td>\n",
       "      <td>-122.405660</td>\n",
       "      <td>0.044</td>\n",
       "      <td>0</td>\n",
       "      <td>0</td>\n",
       "      <td>0</td>\n",
       "      <td>0</td>\n",
       "      <td>0</td>\n",
       "      <td>0</td>\n",
       "      <td>1</td>\n",
       "      <td>1</td>\n",
       "      <td>2</td>\n",
       "      <td>2016-03-25 15:13:02</td>\n",
       "      <td>2016-03-25 15:00:00</td>\n",
       "    </tr>\n",
       "    <tr>\n",
       "      <th>1</th>\n",
       "      <td>1</td>\n",
       "      <td>37.719157</td>\n",
       "      <td>-122.448254</td>\n",
       "      <td>0.000</td>\n",
       "      <td>0</td>\n",
       "      <td>0</td>\n",
       "      <td>0</td>\n",
       "      <td>0</td>\n",
       "      <td>0</td>\n",
       "      <td>0</td>\n",
       "      <td>0</td>\n",
       "      <td>1</td>\n",
       "      <td>2</td>\n",
       "      <td>2020-05-05 19:23:00</td>\n",
       "      <td>2020-05-05 19:00:00</td>\n",
       "    </tr>\n",
       "    <tr>\n",
       "      <th>2</th>\n",
       "      <td>2</td>\n",
       "      <td>37.808498</td>\n",
       "      <td>-122.366852</td>\n",
       "      <td>0.000</td>\n",
       "      <td>0</td>\n",
       "      <td>0</td>\n",
       "      <td>0</td>\n",
       "      <td>0</td>\n",
       "      <td>0</td>\n",
       "      <td>1</td>\n",
       "      <td>0</td>\n",
       "      <td>1</td>\n",
       "      <td>3</td>\n",
       "      <td>2016-09-16 19:57:16</td>\n",
       "      <td>2016-09-16 19:00:00</td>\n",
       "    </tr>\n",
       "    <tr>\n",
       "      <th>4</th>\n",
       "      <td>4</td>\n",
       "      <td>37.719141</td>\n",
       "      <td>-122.448457</td>\n",
       "      <td>0.000</td>\n",
       "      <td>0</td>\n",
       "      <td>0</td>\n",
       "      <td>0</td>\n",
       "      <td>0</td>\n",
       "      <td>0</td>\n",
       "      <td>0</td>\n",
       "      <td>0</td>\n",
       "      <td>1</td>\n",
       "      <td>2</td>\n",
       "      <td>2019-10-09 08:47:00</td>\n",
       "      <td>2019-10-09 08:00:00</td>\n",
       "    </tr>\n",
       "    <tr>\n",
       "      <th>5</th>\n",
       "      <td>5</td>\n",
       "      <td>37.769611</td>\n",
       "      <td>-122.416878</td>\n",
       "      <td>0.000</td>\n",
       "      <td>0</td>\n",
       "      <td>0</td>\n",
       "      <td>0</td>\n",
       "      <td>0</td>\n",
       "      <td>0</td>\n",
       "      <td>0</td>\n",
       "      <td>0</td>\n",
       "      <td>1</td>\n",
       "      <td>2</td>\n",
       "      <td>2019-09-22 08:45:38</td>\n",
       "      <td>2019-09-22 08:00:00</td>\n",
       "    </tr>\n",
       "  </tbody>\n",
       "</table>\n",
       "</div>"
      ],
      "text/plain": [
       "   ID        Lat         Lng  Distance(mi)  Crossing  Give_Way  Junction  \\\n",
       "0   0  37.762150 -122.405660         0.044         0         0         0   \n",
       "1   1  37.719157 -122.448254         0.000         0         0         0   \n",
       "2   2  37.808498 -122.366852         0.000         0         0         0   \n",
       "4   4  37.719141 -122.448457         0.000         0         0         0   \n",
       "5   5  37.769611 -122.416878         0.000         0         0         0   \n",
       "\n",
       "   No_Exit  Railway  Stop  Amenity  Side  Severity           timestamp  \\\n",
       "0        0        0     0        1     1         2 2016-03-25 15:13:02   \n",
       "1        0        0     0        0     1         2 2020-05-05 19:23:00   \n",
       "2        0        0     1        0     1         3 2016-09-16 19:57:16   \n",
       "4        0        0     0        0     1         2 2019-10-09 08:47:00   \n",
       "5        0        0     0        0     1         2 2019-09-22 08:45:38   \n",
       "\n",
       "            date_time  \n",
       "0 2016-03-25 15:00:00  \n",
       "1 2020-05-05 19:00:00  \n",
       "2 2016-09-16 19:00:00  \n",
       "4 2019-10-09 08:00:00  \n",
       "5 2019-09-22 08:00:00  "
      ]
     },
     "execution_count": 13,
     "metadata": {},
     "output_type": "execute_result"
    }
   ],
   "source": [
    "df.head()"
   ]
  },
  {
   "cell_type": "markdown",
   "id": "fda3f13f",
   "metadata": {
    "papermill": {
     "duration": 0.0438,
     "end_time": "2021-07-27T16:39:02.320432",
     "exception": false,
     "start_time": "2021-07-27T16:39:02.276632",
     "status": "completed"
    },
    "tags": []
   },
   "source": [
    "### Import Holiday Data"
   ]
  },
  {
   "cell_type": "code",
   "execution_count": 14,
   "id": "c487ac1d",
   "metadata": {
    "execution": {
     "iopub.execute_input": "2021-07-27T16:39:02.412386Z",
     "iopub.status.busy": "2021-07-27T16:39:02.411684Z",
     "iopub.status.idle": "2021-07-27T16:39:02.430263Z",
     "shell.execute_reply": "2021-07-27T16:39:02.430781Z",
     "shell.execute_reply.started": "2021-07-27T16:38:23.281209Z"
    },
    "papermill": {
     "duration": 0.066078,
     "end_time": "2021-07-27T16:39:02.430952",
     "exception": false,
     "start_time": "2021-07-27T16:39:02.364874",
     "status": "completed"
    },
    "tags": []
   },
   "outputs": [
    {
     "data": {
      "text/html": [
       "<div>\n",
       "<style scoped>\n",
       "    .dataframe tbody tr th:only-of-type {\n",
       "        vertical-align: middle;\n",
       "    }\n",
       "\n",
       "    .dataframe tbody tr th {\n",
       "        vertical-align: top;\n",
       "    }\n",
       "\n",
       "    .dataframe thead th {\n",
       "        text-align: right;\n",
       "    }\n",
       "</style>\n",
       "<table border=\"1\" class=\"dataframe\">\n",
       "  <thead>\n",
       "    <tr style=\"text-align: right;\">\n",
       "      <th></th>\n",
       "      <th>date</th>\n",
       "      <th>description</th>\n",
       "    </tr>\n",
       "  </thead>\n",
       "  <tbody>\n",
       "    <tr>\n",
       "      <th>0</th>\n",
       "      <td>2012-01-02</td>\n",
       "      <td>New Year Day</td>\n",
       "    </tr>\n",
       "    <tr>\n",
       "      <th>1</th>\n",
       "      <td>2012-01-16</td>\n",
       "      <td>Martin Luther King Jr. Day</td>\n",
       "    </tr>\n",
       "    <tr>\n",
       "      <th>2</th>\n",
       "      <td>2012-02-20</td>\n",
       "      <td>Presidents Day (Washingtons Birthday)</td>\n",
       "    </tr>\n",
       "    <tr>\n",
       "      <th>3</th>\n",
       "      <td>2012-05-28</td>\n",
       "      <td>Memorial Day</td>\n",
       "    </tr>\n",
       "    <tr>\n",
       "      <th>4</th>\n",
       "      <td>2012-07-04</td>\n",
       "      <td>Independence Day</td>\n",
       "    </tr>\n",
       "  </tbody>\n",
       "</table>\n",
       "</div>"
      ],
      "text/plain": [
       "         date                            description\n",
       "0  2012-01-02                           New Year Day\n",
       "1  2012-01-16             Martin Luther King Jr. Day\n",
       "2  2012-02-20  Presidents Day (Washingtons Birthday)\n",
       "3  2012-05-28                           Memorial Day\n",
       "4  2012-07-04                       Independence Day"
      ]
     },
     "execution_count": 14,
     "metadata": {},
     "output_type": "execute_result"
    }
   ],
   "source": [
    "xtree = et.parse(os.path.join(dataset_path, 'holidays.xml'))\n",
    "xroot = xtree.getroot()\n",
    "df_cols = [\"date\", \"description\"]\n",
    "rows = []\n",
    "for node in xroot:\n",
    "    date = node.find(\"date\").text if node is not None else None\n",
    "    description = node.find(\"description\").text if node is not None else None\n",
    "    rows.append({\"date\": date,\"description\": description})\n",
    "holidays_df = pd.DataFrame(rows)\n",
    "holidays_df.head()"
   ]
  },
  {
   "cell_type": "markdown",
   "id": "d7a575c1",
   "metadata": {
    "papermill": {
     "duration": 0.045432,
     "end_time": "2021-07-27T16:39:02.521126",
     "exception": false,
     "start_time": "2021-07-27T16:39:02.475694",
     "status": "completed"
    },
    "tags": []
   },
   "source": [
    "#### format date to match with the train data"
   ]
  },
  {
   "cell_type": "code",
   "execution_count": 15,
   "id": "06bde1b8",
   "metadata": {
    "execution": {
     "iopub.execute_input": "2021-07-27T16:39:02.613218Z",
     "iopub.status.busy": "2021-07-27T16:39:02.612411Z",
     "iopub.status.idle": "2021-07-27T16:39:02.617361Z",
     "shell.execute_reply": "2021-07-27T16:39:02.617910Z",
     "shell.execute_reply.started": "2021-07-27T16:38:23.301583Z"
    },
    "papermill": {
     "duration": 0.052659,
     "end_time": "2021-07-27T16:39:02.618106",
     "exception": false,
     "start_time": "2021-07-27T16:39:02.565447",
     "status": "completed"
    },
    "tags": []
   },
   "outputs": [],
   "source": [
    "holidays_df['date']=pd.to_datetime(holidays_df['date'])"
   ]
  },
  {
   "cell_type": "markdown",
   "id": "690e5ac6",
   "metadata": {
    "papermill": {
     "duration": 0.044204,
     "end_time": "2021-07-27T16:39:02.706750",
     "exception": false,
     "start_time": "2021-07-27T16:39:02.662546",
     "status": "completed"
    },
    "tags": []
   },
   "source": [
    "#### Check if the day of the accident was holiday or not"
   ]
  },
  {
   "cell_type": "code",
   "execution_count": 16,
   "id": "671c2f5e",
   "metadata": {
    "execution": {
     "iopub.execute_input": "2021-07-27T16:39:02.813209Z",
     "iopub.status.busy": "2021-07-27T16:39:02.812467Z",
     "iopub.status.idle": "2021-07-27T16:39:02.815761Z",
     "shell.execute_reply": "2021-07-27T16:39:02.815107Z",
     "shell.execute_reply.started": "2021-07-27T16:38:23.308986Z"
    },
    "papermill": {
     "duration": 0.064768,
     "end_time": "2021-07-27T16:39:02.815903",
     "exception": false,
     "start_time": "2021-07-27T16:39:02.751135",
     "status": "completed"
    },
    "tags": []
   },
   "outputs": [],
   "source": [
    "df['is_holiday']=df['timestamp'].dt.date.isin(holidays_df['date'].dt.date).astype(int)  \n",
    "df['is_holiday']=df['timestamp'].dt.day_name().isin(['Saturday','Sunday']).astype(int)"
   ]
  },
  {
   "cell_type": "markdown",
   "id": "f5fb7c6a",
   "metadata": {
    "papermill": {
     "duration": 0.04404,
     "end_time": "2021-07-27T16:39:02.905723",
     "exception": false,
     "start_time": "2021-07-27T16:39:02.861683",
     "status": "completed"
    },
    "tags": []
   },
   "source": [
    "### Import Weather Data"
   ]
  },
  {
   "cell_type": "code",
   "execution_count": 17,
   "id": "046551ac",
   "metadata": {
    "execution": {
     "iopub.execute_input": "2021-07-27T16:39:03.000064Z",
     "iopub.status.busy": "2021-07-27T16:39:02.999279Z",
     "iopub.status.idle": "2021-07-27T16:39:03.028078Z",
     "shell.execute_reply": "2021-07-27T16:39:03.026425Z",
     "shell.execute_reply.started": "2021-07-27T16:38:23.338405Z"
    },
    "papermill": {
     "duration": 0.078281,
     "end_time": "2021-07-27T16:39:03.028256",
     "exception": false,
     "start_time": "2021-07-27T16:39:02.949975",
     "status": "completed"
    },
    "tags": []
   },
   "outputs": [],
   "source": [
    "import numpy as np\n",
    "weather_df = pd.read_csv(os.path.join(dataset_path, 'weather-sfcsv.csv'))"
   ]
  },
  {
   "cell_type": "code",
   "execution_count": 18,
   "id": "a8a4d8f8",
   "metadata": {
    "execution": {
     "iopub.execute_input": "2021-07-27T16:39:03.134369Z",
     "iopub.status.busy": "2021-07-27T16:39:03.126471Z",
     "iopub.status.idle": "2021-07-27T16:39:03.168649Z",
     "shell.execute_reply": "2021-07-27T16:39:03.169123Z",
     "shell.execute_reply.started": "2021-07-27T16:38:23.359456Z"
    },
    "papermill": {
     "duration": 0.093964,
     "end_time": "2021-07-27T16:39:03.169311",
     "exception": false,
     "start_time": "2021-07-27T16:39:03.075347",
     "status": "completed"
    },
    "tags": []
   },
   "outputs": [
    {
     "data": {
      "text/html": [
       "<div>\n",
       "<style scoped>\n",
       "    .dataframe tbody tr th:only-of-type {\n",
       "        vertical-align: middle;\n",
       "    }\n",
       "\n",
       "    .dataframe tbody tr th {\n",
       "        vertical-align: top;\n",
       "    }\n",
       "\n",
       "    .dataframe thead th {\n",
       "        text-align: right;\n",
       "    }\n",
       "</style>\n",
       "<table border=\"1\" class=\"dataframe\">\n",
       "  <thead>\n",
       "    <tr style=\"text-align: right;\">\n",
       "      <th></th>\n",
       "      <th>Year</th>\n",
       "      <th>Day</th>\n",
       "      <th>Month</th>\n",
       "      <th>Hour</th>\n",
       "      <th>Wind_Chill(F)</th>\n",
       "      <th>Precipitation(in)</th>\n",
       "      <th>Temperature(F)</th>\n",
       "      <th>Humidity(%)</th>\n",
       "      <th>Wind_Speed(mph)</th>\n",
       "      <th>Visibility(mi)</th>\n",
       "    </tr>\n",
       "  </thead>\n",
       "  <tbody>\n",
       "    <tr>\n",
       "      <th>count</th>\n",
       "      <td>6901.000000</td>\n",
       "      <td>6901.000000</td>\n",
       "      <td>6901.000000</td>\n",
       "      <td>6901.000000</td>\n",
       "      <td>3292.000000</td>\n",
       "      <td>3574.000000</td>\n",
       "      <td>6899.000000</td>\n",
       "      <td>6899.000000</td>\n",
       "      <td>6556.000000</td>\n",
       "      <td>6900.000000</td>\n",
       "    </tr>\n",
       "    <tr>\n",
       "      <th>mean</th>\n",
       "      <td>2018.293001</td>\n",
       "      <td>15.624837</td>\n",
       "      <td>6.775250</td>\n",
       "      <td>12.789886</td>\n",
       "      <td>59.762515</td>\n",
       "      <td>0.006444</td>\n",
       "      <td>59.905465</td>\n",
       "      <td>68.570952</td>\n",
       "      <td>10.813164</td>\n",
       "      <td>9.441851</td>\n",
       "    </tr>\n",
       "    <tr>\n",
       "      <th>std</th>\n",
       "      <td>1.390524</td>\n",
       "      <td>8.703753</td>\n",
       "      <td>3.567982</td>\n",
       "      <td>5.874155</td>\n",
       "      <td>9.338456</td>\n",
       "      <td>0.028822</td>\n",
       "      <td>7.977860</td>\n",
       "      <td>16.180126</td>\n",
       "      <td>6.406376</td>\n",
       "      <td>1.640513</td>\n",
       "    </tr>\n",
       "    <tr>\n",
       "      <th>min</th>\n",
       "      <td>2016.000000</td>\n",
       "      <td>1.000000</td>\n",
       "      <td>1.000000</td>\n",
       "      <td>0.000000</td>\n",
       "      <td>31.100000</td>\n",
       "      <td>0.000000</td>\n",
       "      <td>36.000000</td>\n",
       "      <td>10.000000</td>\n",
       "      <td>0.000000</td>\n",
       "      <td>0.000000</td>\n",
       "    </tr>\n",
       "    <tr>\n",
       "      <th>25%</th>\n",
       "      <td>2017.000000</td>\n",
       "      <td>8.000000</td>\n",
       "      <td>4.000000</td>\n",
       "      <td>8.000000</td>\n",
       "      <td>54.000000</td>\n",
       "      <td>0.000000</td>\n",
       "      <td>54.000000</td>\n",
       "      <td>59.000000</td>\n",
       "      <td>5.800000</td>\n",
       "      <td>10.000000</td>\n",
       "    </tr>\n",
       "    <tr>\n",
       "      <th>50%</th>\n",
       "      <td>2019.000000</td>\n",
       "      <td>15.000000</td>\n",
       "      <td>7.000000</td>\n",
       "      <td>14.000000</td>\n",
       "      <td>59.000000</td>\n",
       "      <td>0.000000</td>\n",
       "      <td>59.000000</td>\n",
       "      <td>70.000000</td>\n",
       "      <td>10.000000</td>\n",
       "      <td>10.000000</td>\n",
       "    </tr>\n",
       "    <tr>\n",
       "      <th>75%</th>\n",
       "      <td>2020.000000</td>\n",
       "      <td>23.000000</td>\n",
       "      <td>10.000000</td>\n",
       "      <td>17.000000</td>\n",
       "      <td>66.000000</td>\n",
       "      <td>0.000000</td>\n",
       "      <td>64.900000</td>\n",
       "      <td>80.000000</td>\n",
       "      <td>15.000000</td>\n",
       "      <td>10.000000</td>\n",
       "    </tr>\n",
       "    <tr>\n",
       "      <th>max</th>\n",
       "      <td>2020.000000</td>\n",
       "      <td>31.000000</td>\n",
       "      <td>12.000000</td>\n",
       "      <td>23.000000</td>\n",
       "      <td>98.000000</td>\n",
       "      <td>0.490000</td>\n",
       "      <td>98.100000</td>\n",
       "      <td>100.000000</td>\n",
       "      <td>40.300000</td>\n",
       "      <td>10.000000</td>\n",
       "    </tr>\n",
       "  </tbody>\n",
       "</table>\n",
       "</div>"
      ],
      "text/plain": [
       "              Year          Day        Month         Hour  Wind_Chill(F)  \\\n",
       "count  6901.000000  6901.000000  6901.000000  6901.000000    3292.000000   \n",
       "mean   2018.293001    15.624837     6.775250    12.789886      59.762515   \n",
       "std       1.390524     8.703753     3.567982     5.874155       9.338456   \n",
       "min    2016.000000     1.000000     1.000000     0.000000      31.100000   \n",
       "25%    2017.000000     8.000000     4.000000     8.000000      54.000000   \n",
       "50%    2019.000000    15.000000     7.000000    14.000000      59.000000   \n",
       "75%    2020.000000    23.000000    10.000000    17.000000      66.000000   \n",
       "max    2020.000000    31.000000    12.000000    23.000000      98.000000   \n",
       "\n",
       "       Precipitation(in)  Temperature(F)  Humidity(%)  Wind_Speed(mph)  \\\n",
       "count        3574.000000     6899.000000  6899.000000      6556.000000   \n",
       "mean            0.006444       59.905465    68.570952        10.813164   \n",
       "std             0.028822        7.977860    16.180126         6.406376   \n",
       "min             0.000000       36.000000    10.000000         0.000000   \n",
       "25%             0.000000       54.000000    59.000000         5.800000   \n",
       "50%             0.000000       59.000000    70.000000        10.000000   \n",
       "75%             0.000000       64.900000    80.000000        15.000000   \n",
       "max             0.490000       98.100000   100.000000        40.300000   \n",
       "\n",
       "       Visibility(mi)  \n",
       "count     6900.000000  \n",
       "mean         9.441851  \n",
       "std          1.640513  \n",
       "min          0.000000  \n",
       "25%         10.000000  \n",
       "50%         10.000000  \n",
       "75%         10.000000  \n",
       "max         10.000000  "
      ]
     },
     "execution_count": 18,
     "metadata": {},
     "output_type": "execute_result"
    }
   ],
   "source": [
    "weather_df.describe()"
   ]
  },
  {
   "cell_type": "code",
   "execution_count": 19,
   "id": "12fb7e08",
   "metadata": {
    "execution": {
     "iopub.execute_input": "2021-07-27T16:39:03.262955Z",
     "iopub.status.busy": "2021-07-27T16:39:03.262297Z",
     "iopub.status.idle": "2021-07-27T16:39:03.300472Z",
     "shell.execute_reply": "2021-07-27T16:39:03.299908Z",
     "shell.execute_reply.started": "2021-07-27T16:38:23.406358Z"
    },
    "papermill": {
     "duration": 0.086022,
     "end_time": "2021-07-27T16:39:03.300627",
     "exception": false,
     "start_time": "2021-07-27T16:39:03.214605",
     "status": "completed"
    },
    "tags": []
   },
   "outputs": [],
   "source": [
    "weather_df['date_time']=pd.to_datetime(weather_df[[\"Year\", \"Month\", \"Day\",\"Hour\"]])\n",
    "weather_df.dropna(subset=[\"Weather_Condition\"],inplace=True)"
   ]
  },
  {
   "cell_type": "code",
   "execution_count": 20,
   "id": "df8b1905",
   "metadata": {
    "execution": {
     "iopub.execute_input": "2021-07-27T16:39:03.399987Z",
     "iopub.status.busy": "2021-07-27T16:39:03.399316Z",
     "iopub.status.idle": "2021-07-27T16:39:03.402584Z",
     "shell.execute_reply": "2021-07-27T16:39:03.401929Z",
     "shell.execute_reply.started": "2021-07-27T16:38:23.433117Z"
    },
    "papermill": {
     "duration": 0.057056,
     "end_time": "2021-07-27T16:39:03.402717",
     "exception": false,
     "start_time": "2021-07-27T16:39:03.345661",
     "status": "completed"
    },
    "tags": []
   },
   "outputs": [],
   "source": [
    "weather_df['Weather_Condition'] = labelencoder.fit_transform(weather_df['Weather_Condition'])"
   ]
  },
  {
   "cell_type": "code",
   "execution_count": 21,
   "id": "de2966b4",
   "metadata": {
    "execution": {
     "iopub.execute_input": "2021-07-27T16:39:03.501534Z",
     "iopub.status.busy": "2021-07-27T16:39:03.500837Z",
     "iopub.status.idle": "2021-07-27T16:39:03.504010Z",
     "shell.execute_reply": "2021-07-27T16:39:03.504531Z",
     "shell.execute_reply.started": "2021-07-27T16:38:23.450295Z"
    },
    "papermill": {
     "duration": 0.056952,
     "end_time": "2021-07-27T16:39:03.504699",
     "exception": false,
     "start_time": "2021-07-27T16:39:03.447747",
     "status": "completed"
    },
    "tags": []
   },
   "outputs": [],
   "source": [
    "weather_df['Visibility(mi)'].fillna(weather_df['Visibility(mi)'].mean(),inplace=True)\n",
    "weather_df['Humidity(%)'].fillna(weather_df['Humidity(%)'].mean(),inplace=True)\n",
    "weather_df['Temperature(F)'].fillna(weather_df['Temperature(F)'].mean(),inplace=True)\n",
    "weather_df['Wind_Speed(mph)'].fillna(weather_df['Wind_Speed(mph)'].mean(),inplace=True)"
   ]
  },
  {
   "cell_type": "code",
   "execution_count": 22,
   "id": "33da4d46",
   "metadata": {
    "execution": {
     "iopub.execute_input": "2021-07-27T16:39:03.599519Z",
     "iopub.status.busy": "2021-07-27T16:39:03.598516Z",
     "iopub.status.idle": "2021-07-27T16:39:03.604713Z",
     "shell.execute_reply": "2021-07-27T16:39:03.605202Z",
     "shell.execute_reply.started": "2021-07-27T16:38:23.468750Z"
    },
    "papermill": {
     "duration": 0.055522,
     "end_time": "2021-07-27T16:39:03.605381",
     "exception": false,
     "start_time": "2021-07-27T16:39:03.549859",
     "status": "completed"
    },
    "tags": []
   },
   "outputs": [],
   "source": [
    "weather_df.drop(columns=['Precipitation(in)','Selected','Wind_Chill(F)'],inplace=True)"
   ]
  },
  {
   "cell_type": "code",
   "execution_count": 23,
   "id": "0d394f3c",
   "metadata": {
    "execution": {
     "iopub.execute_input": "2021-07-27T16:39:03.699078Z",
     "iopub.status.busy": "2021-07-27T16:39:03.698108Z",
     "iopub.status.idle": "2021-07-27T16:39:03.708550Z",
     "shell.execute_reply": "2021-07-27T16:39:03.709047Z",
     "shell.execute_reply.started": "2021-07-27T16:38:23.485894Z"
    },
    "papermill": {
     "duration": 0.058804,
     "end_time": "2021-07-27T16:39:03.709242",
     "exception": false,
     "start_time": "2021-07-27T16:39:03.650438",
     "status": "completed"
    },
    "tags": []
   },
   "outputs": [],
   "source": [
    "weather_df.drop_duplicates(subset=['date_time'],inplace=True,keep='last')"
   ]
  },
  {
   "cell_type": "code",
   "execution_count": 24,
   "id": "b973cd6c",
   "metadata": {
    "execution": {
     "iopub.execute_input": "2021-07-27T16:39:03.806186Z",
     "iopub.status.busy": "2021-07-27T16:39:03.805231Z",
     "iopub.status.idle": "2021-07-27T16:39:03.822820Z",
     "shell.execute_reply": "2021-07-27T16:39:03.823343Z",
     "shell.execute_reply.started": "2021-07-27T16:38:23.502974Z"
    },
    "papermill": {
     "duration": 0.069069,
     "end_time": "2021-07-27T16:39:03.823536",
     "exception": false,
     "start_time": "2021-07-27T16:39:03.754467",
     "status": "completed"
    },
    "tags": []
   },
   "outputs": [
    {
     "data": {
      "text/html": [
       "<div>\n",
       "<style scoped>\n",
       "    .dataframe tbody tr th:only-of-type {\n",
       "        vertical-align: middle;\n",
       "    }\n",
       "\n",
       "    .dataframe tbody tr th {\n",
       "        vertical-align: top;\n",
       "    }\n",
       "\n",
       "    .dataframe thead th {\n",
       "        text-align: right;\n",
       "    }\n",
       "</style>\n",
       "<table border=\"1\" class=\"dataframe\">\n",
       "  <thead>\n",
       "    <tr style=\"text-align: right;\">\n",
       "      <th></th>\n",
       "      <th>Year</th>\n",
       "      <th>Day</th>\n",
       "      <th>Month</th>\n",
       "      <th>Hour</th>\n",
       "      <th>Weather_Condition</th>\n",
       "      <th>Temperature(F)</th>\n",
       "      <th>Humidity(%)</th>\n",
       "      <th>Wind_Speed(mph)</th>\n",
       "      <th>Visibility(mi)</th>\n",
       "      <th>date_time</th>\n",
       "    </tr>\n",
       "  </thead>\n",
       "  <tbody>\n",
       "    <tr>\n",
       "      <th>0</th>\n",
       "      <td>2020</td>\n",
       "      <td>27</td>\n",
       "      <td>7</td>\n",
       "      <td>18</td>\n",
       "      <td>3</td>\n",
       "      <td>64.0</td>\n",
       "      <td>70.0</td>\n",
       "      <td>20.0</td>\n",
       "      <td>10.0</td>\n",
       "      <td>2020-07-27 18:00:00</td>\n",
       "    </tr>\n",
       "    <tr>\n",
       "      <th>1</th>\n",
       "      <td>2017</td>\n",
       "      <td>30</td>\n",
       "      <td>9</td>\n",
       "      <td>17</td>\n",
       "      <td>17</td>\n",
       "      <td>71.1</td>\n",
       "      <td>57.0</td>\n",
       "      <td>9.2</td>\n",
       "      <td>10.0</td>\n",
       "      <td>2017-09-30 17:00:00</td>\n",
       "    </tr>\n",
       "    <tr>\n",
       "      <th>2</th>\n",
       "      <td>2017</td>\n",
       "      <td>27</td>\n",
       "      <td>6</td>\n",
       "      <td>5</td>\n",
       "      <td>16</td>\n",
       "      <td>57.9</td>\n",
       "      <td>87.0</td>\n",
       "      <td>15.0</td>\n",
       "      <td>9.0</td>\n",
       "      <td>2017-06-27 05:00:00</td>\n",
       "    </tr>\n",
       "    <tr>\n",
       "      <th>3</th>\n",
       "      <td>2016</td>\n",
       "      <td>7</td>\n",
       "      <td>9</td>\n",
       "      <td>9</td>\n",
       "      <td>0</td>\n",
       "      <td>66.9</td>\n",
       "      <td>73.0</td>\n",
       "      <td>4.6</td>\n",
       "      <td>10.0</td>\n",
       "      <td>2016-09-07 09:00:00</td>\n",
       "    </tr>\n",
       "    <tr>\n",
       "      <th>8</th>\n",
       "      <td>2019</td>\n",
       "      <td>14</td>\n",
       "      <td>2</td>\n",
       "      <td>15</td>\n",
       "      <td>14</td>\n",
       "      <td>55.0</td>\n",
       "      <td>64.0</td>\n",
       "      <td>18.4</td>\n",
       "      <td>10.0</td>\n",
       "      <td>2019-02-14 15:00:00</td>\n",
       "    </tr>\n",
       "  </tbody>\n",
       "</table>\n",
       "</div>"
      ],
      "text/plain": [
       "   Year  Day  Month  Hour  Weather_Condition  Temperature(F)  Humidity(%)  \\\n",
       "0  2020   27      7    18                  3            64.0         70.0   \n",
       "1  2017   30      9    17                 17            71.1         57.0   \n",
       "2  2017   27      6     5                 16            57.9         87.0   \n",
       "3  2016    7      9     9                  0            66.9         73.0   \n",
       "8  2019   14      2    15                 14            55.0         64.0   \n",
       "\n",
       "   Wind_Speed(mph)  Visibility(mi)           date_time  \n",
       "0             20.0            10.0 2020-07-27 18:00:00  \n",
       "1              9.2            10.0 2017-09-30 17:00:00  \n",
       "2             15.0             9.0 2017-06-27 05:00:00  \n",
       "3              4.6            10.0 2016-09-07 09:00:00  \n",
       "8             18.4            10.0 2019-02-14 15:00:00  "
      ]
     },
     "execution_count": 24,
     "metadata": {},
     "output_type": "execute_result"
    }
   ],
   "source": [
    "weather_df.head()"
   ]
  },
  {
   "cell_type": "code",
   "execution_count": 25,
   "id": "5fc5fe79",
   "metadata": {
    "execution": {
     "iopub.execute_input": "2021-07-27T16:39:03.922358Z",
     "iopub.status.busy": "2021-07-27T16:39:03.921338Z",
     "iopub.status.idle": "2021-07-27T16:39:03.935881Z",
     "shell.execute_reply": "2021-07-27T16:39:03.936408Z",
     "shell.execute_reply.started": "2021-07-27T16:38:23.524736Z"
    },
    "papermill": {
     "duration": 0.063506,
     "end_time": "2021-07-27T16:39:03.936603",
     "exception": false,
     "start_time": "2021-07-27T16:39:03.873097",
     "status": "completed"
    },
    "tags": []
   },
   "outputs": [],
   "source": [
    "df_merged =pd.merge(df, weather_df, how='left', on=['date_time'])"
   ]
  },
  {
   "cell_type": "code",
   "execution_count": 26,
   "id": "34001f4c",
   "metadata": {
    "execution": {
     "iopub.execute_input": "2021-07-27T16:39:04.033300Z",
     "iopub.status.busy": "2021-07-27T16:39:04.032174Z",
     "iopub.status.idle": "2021-07-27T16:39:04.043102Z",
     "shell.execute_reply": "2021-07-27T16:39:04.043592Z",
     "shell.execute_reply.started": "2021-07-27T16:38:23.543575Z"
    },
    "papermill": {
     "duration": 0.061304,
     "end_time": "2021-07-27T16:39:04.043785",
     "exception": false,
     "start_time": "2021-07-27T16:39:03.982481",
     "status": "completed"
    },
    "tags": []
   },
   "outputs": [],
   "source": [
    "df_merged.dropna(subset=['Year'],inplace=True)"
   ]
  },
  {
   "cell_type": "code",
   "execution_count": 27,
   "id": "42955f4d",
   "metadata": {
    "execution": {
     "iopub.execute_input": "2021-07-27T16:39:04.138689Z",
     "iopub.status.busy": "2021-07-27T16:39:04.137723Z",
     "iopub.status.idle": "2021-07-27T16:39:04.143272Z",
     "shell.execute_reply": "2021-07-27T16:39:04.143712Z",
     "shell.execute_reply.started": "2021-07-27T16:38:23.554779Z"
    },
    "papermill": {
     "duration": 0.054473,
     "end_time": "2021-07-27T16:39:04.143895",
     "exception": false,
     "start_time": "2021-07-27T16:39:04.089422",
     "status": "completed"
    },
    "tags": []
   },
   "outputs": [],
   "source": [
    "df_merged.drop(columns=['timestamp','date_time'],inplace=True)"
   ]
  },
  {
   "cell_type": "code",
   "execution_count": 28,
   "id": "d52307bc",
   "metadata": {
    "execution": {
     "iopub.execute_input": "2021-07-27T16:39:04.241269Z",
     "iopub.status.busy": "2021-07-27T16:39:04.240599Z",
     "iopub.status.idle": "2021-07-27T16:39:04.254610Z",
     "shell.execute_reply": "2021-07-27T16:39:04.254054Z",
     "shell.execute_reply.started": "2021-07-27T16:38:23.566738Z"
    },
    "papermill": {
     "duration": 0.064888,
     "end_time": "2021-07-27T16:39:04.254765",
     "exception": false,
     "start_time": "2021-07-27T16:39:04.189877",
     "status": "completed"
    },
    "tags": []
   },
   "outputs": [
    {
     "name": "stdout",
     "output_type": "stream",
     "text": [
      "<class 'pandas.core.frame.DataFrame'>\n",
      "Int64Index: 6200 entries, 0 to 6200\n",
      "Data columns (total 23 columns):\n",
      " #   Column             Non-Null Count  Dtype  \n",
      "---  ------             --------------  -----  \n",
      " 0   ID                 6200 non-null   int64  \n",
      " 1   Lat                6200 non-null   float64\n",
      " 2   Lng                6200 non-null   float64\n",
      " 3   Distance(mi)       6200 non-null   float64\n",
      " 4   Crossing           6200 non-null   int64  \n",
      " 5   Give_Way           6200 non-null   int64  \n",
      " 6   Junction           6200 non-null   int64  \n",
      " 7   No_Exit            6200 non-null   int64  \n",
      " 8   Railway            6200 non-null   int64  \n",
      " 9   Stop               6200 non-null   int64  \n",
      " 10  Amenity            6200 non-null   int64  \n",
      " 11  Side               6200 non-null   int64  \n",
      " 12  Severity           6200 non-null   int64  \n",
      " 13  is_holiday         6200 non-null   int64  \n",
      " 14  Year               6200 non-null   float64\n",
      " 15  Day                6200 non-null   float64\n",
      " 16  Month              6200 non-null   float64\n",
      " 17  Hour               6200 non-null   float64\n",
      " 18  Weather_Condition  6200 non-null   float64\n",
      " 19  Temperature(F)     6200 non-null   float64\n",
      " 20  Humidity(%)        6200 non-null   float64\n",
      " 21  Wind_Speed(mph)    6200 non-null   float64\n",
      " 22  Visibility(mi)     6200 non-null   float64\n",
      "dtypes: float64(12), int64(11)\n",
      "memory usage: 1.1 MB\n"
     ]
    }
   ],
   "source": [
    "df_merged.info()"
   ]
  },
  {
   "cell_type": "code",
   "execution_count": 29,
   "id": "b6a9803f",
   "metadata": {
    "execution": {
     "iopub.execute_input": "2021-07-27T16:39:04.358565Z",
     "iopub.status.busy": "2021-07-27T16:39:04.357410Z",
     "iopub.status.idle": "2021-07-27T16:39:04.437315Z",
     "shell.execute_reply": "2021-07-27T16:39:04.437754Z",
     "shell.execute_reply.started": "2021-07-27T16:38:23.594149Z"
    },
    "papermill": {
     "duration": 0.136292,
     "end_time": "2021-07-27T16:39:04.437923",
     "exception": false,
     "start_time": "2021-07-27T16:39:04.301631",
     "status": "completed"
    },
    "tags": []
   },
   "outputs": [
    {
     "data": {
      "text/html": [
       "<div>\n",
       "<style scoped>\n",
       "    .dataframe tbody tr th:only-of-type {\n",
       "        vertical-align: middle;\n",
       "    }\n",
       "\n",
       "    .dataframe tbody tr th {\n",
       "        vertical-align: top;\n",
       "    }\n",
       "\n",
       "    .dataframe thead th {\n",
       "        text-align: right;\n",
       "    }\n",
       "</style>\n",
       "<table border=\"1\" class=\"dataframe\">\n",
       "  <thead>\n",
       "    <tr style=\"text-align: right;\">\n",
       "      <th></th>\n",
       "      <th>Lat</th>\n",
       "      <th>Lng</th>\n",
       "      <th>Distance(mi)</th>\n",
       "      <th>Crossing</th>\n",
       "      <th>Give_Way</th>\n",
       "      <th>Junction</th>\n",
       "      <th>No_Exit</th>\n",
       "      <th>Railway</th>\n",
       "      <th>Stop</th>\n",
       "      <th>Amenity</th>\n",
       "      <th>...</th>\n",
       "      <th>is_holiday</th>\n",
       "      <th>Year</th>\n",
       "      <th>Day</th>\n",
       "      <th>Month</th>\n",
       "      <th>Hour</th>\n",
       "      <th>Weather_Condition</th>\n",
       "      <th>Temperature(F)</th>\n",
       "      <th>Humidity(%)</th>\n",
       "      <th>Wind_Speed(mph)</th>\n",
       "      <th>Visibility(mi)</th>\n",
       "    </tr>\n",
       "  </thead>\n",
       "  <tbody>\n",
       "    <tr>\n",
       "      <th>count</th>\n",
       "      <td>6200.000000</td>\n",
       "      <td>6200.000000</td>\n",
       "      <td>6200.000000</td>\n",
       "      <td>6200.000000</td>\n",
       "      <td>6200.000000</td>\n",
       "      <td>6200.000000</td>\n",
       "      <td>6200.000000</td>\n",
       "      <td>6200.000000</td>\n",
       "      <td>6200.000000</td>\n",
       "      <td>6200.000000</td>\n",
       "      <td>...</td>\n",
       "      <td>6200.000000</td>\n",
       "      <td>6200.000000</td>\n",
       "      <td>6200.000000</td>\n",
       "      <td>6200.000000</td>\n",
       "      <td>6200.000000</td>\n",
       "      <td>6200.000000</td>\n",
       "      <td>6200.000000</td>\n",
       "      <td>6200.000000</td>\n",
       "      <td>6200.000000</td>\n",
       "      <td>6200.000000</td>\n",
       "    </tr>\n",
       "    <tr>\n",
       "      <th>mean</th>\n",
       "      <td>37.765535</td>\n",
       "      <td>-122.406148</td>\n",
       "      <td>0.136023</td>\n",
       "      <td>0.082097</td>\n",
       "      <td>0.000484</td>\n",
       "      <td>0.237903</td>\n",
       "      <td>0.000161</td>\n",
       "      <td>0.026129</td>\n",
       "      <td>0.100806</td>\n",
       "      <td>0.036613</td>\n",
       "      <td>...</td>\n",
       "      <td>0.184516</td>\n",
       "      <td>2018.365484</td>\n",
       "      <td>15.691935</td>\n",
       "      <td>6.813710</td>\n",
       "      <td>12.826452</td>\n",
       "      <td>11.091129</td>\n",
       "      <td>59.911194</td>\n",
       "      <td>68.166221</td>\n",
       "      <td>10.813835</td>\n",
       "      <td>9.441689</td>\n",
       "    </tr>\n",
       "    <tr>\n",
       "      <th>std</th>\n",
       "      <td>0.032522</td>\n",
       "      <td>0.028279</td>\n",
       "      <td>0.390863</td>\n",
       "      <td>0.274534</td>\n",
       "      <td>0.021994</td>\n",
       "      <td>0.425834</td>\n",
       "      <td>0.012700</td>\n",
       "      <td>0.159532</td>\n",
       "      <td>0.301097</td>\n",
       "      <td>0.187825</td>\n",
       "      <td>...</td>\n",
       "      <td>0.387936</td>\n",
       "      <td>1.370054</td>\n",
       "      <td>8.745340</td>\n",
       "      <td>3.594906</td>\n",
       "      <td>5.813986</td>\n",
       "      <td>6.951141</td>\n",
       "      <td>8.016504</td>\n",
       "      <td>16.279713</td>\n",
       "      <td>6.370120</td>\n",
       "      <td>1.642199</td>\n",
       "    </tr>\n",
       "    <tr>\n",
       "      <th>min</th>\n",
       "      <td>37.609619</td>\n",
       "      <td>-122.507191</td>\n",
       "      <td>0.000000</td>\n",
       "      <td>0.000000</td>\n",
       "      <td>0.000000</td>\n",
       "      <td>0.000000</td>\n",
       "      <td>0.000000</td>\n",
       "      <td>0.000000</td>\n",
       "      <td>0.000000</td>\n",
       "      <td>0.000000</td>\n",
       "      <td>...</td>\n",
       "      <td>0.000000</td>\n",
       "      <td>2016.000000</td>\n",
       "      <td>1.000000</td>\n",
       "      <td>1.000000</td>\n",
       "      <td>0.000000</td>\n",
       "      <td>0.000000</td>\n",
       "      <td>36.000000</td>\n",
       "      <td>10.000000</td>\n",
       "      <td>0.000000</td>\n",
       "      <td>0.120000</td>\n",
       "    </tr>\n",
       "    <tr>\n",
       "      <th>25%</th>\n",
       "      <td>37.736788</td>\n",
       "      <td>-122.412227</td>\n",
       "      <td>0.000000</td>\n",
       "      <td>0.000000</td>\n",
       "      <td>0.000000</td>\n",
       "      <td>0.000000</td>\n",
       "      <td>0.000000</td>\n",
       "      <td>0.000000</td>\n",
       "      <td>0.000000</td>\n",
       "      <td>0.000000</td>\n",
       "      <td>...</td>\n",
       "      <td>0.000000</td>\n",
       "      <td>2017.000000</td>\n",
       "      <td>8.000000</td>\n",
       "      <td>4.000000</td>\n",
       "      <td>8.000000</td>\n",
       "      <td>3.000000</td>\n",
       "      <td>54.000000</td>\n",
       "      <td>59.000000</td>\n",
       "      <td>6.000000</td>\n",
       "      <td>10.000000</td>\n",
       "    </tr>\n",
       "    <tr>\n",
       "      <th>50%</th>\n",
       "      <td>37.768227</td>\n",
       "      <td>-122.404835</td>\n",
       "      <td>0.000000</td>\n",
       "      <td>0.000000</td>\n",
       "      <td>0.000000</td>\n",
       "      <td>0.000000</td>\n",
       "      <td>0.000000</td>\n",
       "      <td>0.000000</td>\n",
       "      <td>0.000000</td>\n",
       "      <td>0.000000</td>\n",
       "      <td>...</td>\n",
       "      <td>0.000000</td>\n",
       "      <td>2019.000000</td>\n",
       "      <td>16.000000</td>\n",
       "      <td>7.000000</td>\n",
       "      <td>14.000000</td>\n",
       "      <td>14.000000</td>\n",
       "      <td>59.000000</td>\n",
       "      <td>70.000000</td>\n",
       "      <td>10.400000</td>\n",
       "      <td>10.000000</td>\n",
       "    </tr>\n",
       "    <tr>\n",
       "      <th>75%</th>\n",
       "      <td>37.787411</td>\n",
       "      <td>-122.392571</td>\n",
       "      <td>0.044000</td>\n",
       "      <td>0.000000</td>\n",
       "      <td>0.000000</td>\n",
       "      <td>0.000000</td>\n",
       "      <td>0.000000</td>\n",
       "      <td>0.000000</td>\n",
       "      <td>0.000000</td>\n",
       "      <td>0.000000</td>\n",
       "      <td>...</td>\n",
       "      <td>0.000000</td>\n",
       "      <td>2020.000000</td>\n",
       "      <td>23.000000</td>\n",
       "      <td>10.000000</td>\n",
       "      <td>17.000000</td>\n",
       "      <td>17.000000</td>\n",
       "      <td>64.900000</td>\n",
       "      <td>80.000000</td>\n",
       "      <td>15.000000</td>\n",
       "      <td>10.000000</td>\n",
       "    </tr>\n",
       "    <tr>\n",
       "      <th>max</th>\n",
       "      <td>37.825626</td>\n",
       "      <td>-122.349734</td>\n",
       "      <td>5.890000</td>\n",
       "      <td>1.000000</td>\n",
       "      <td>1.000000</td>\n",
       "      <td>1.000000</td>\n",
       "      <td>1.000000</td>\n",
       "      <td>1.000000</td>\n",
       "      <td>1.000000</td>\n",
       "      <td>1.000000</td>\n",
       "      <td>...</td>\n",
       "      <td>1.000000</td>\n",
       "      <td>2020.000000</td>\n",
       "      <td>31.000000</td>\n",
       "      <td>12.000000</td>\n",
       "      <td>23.000000</td>\n",
       "      <td>25.000000</td>\n",
       "      <td>98.000000</td>\n",
       "      <td>100.000000</td>\n",
       "      <td>40.300000</td>\n",
       "      <td>10.000000</td>\n",
       "    </tr>\n",
       "  </tbody>\n",
       "</table>\n",
       "<p>8 rows × 22 columns</p>\n",
       "</div>"
      ],
      "text/plain": [
       "               Lat          Lng  Distance(mi)     Crossing     Give_Way  \\\n",
       "count  6200.000000  6200.000000   6200.000000  6200.000000  6200.000000   \n",
       "mean     37.765535  -122.406148      0.136023     0.082097     0.000484   \n",
       "std       0.032522     0.028279      0.390863     0.274534     0.021994   \n",
       "min      37.609619  -122.507191      0.000000     0.000000     0.000000   \n",
       "25%      37.736788  -122.412227      0.000000     0.000000     0.000000   \n",
       "50%      37.768227  -122.404835      0.000000     0.000000     0.000000   \n",
       "75%      37.787411  -122.392571      0.044000     0.000000     0.000000   \n",
       "max      37.825626  -122.349734      5.890000     1.000000     1.000000   \n",
       "\n",
       "          Junction      No_Exit      Railway         Stop      Amenity  ...  \\\n",
       "count  6200.000000  6200.000000  6200.000000  6200.000000  6200.000000  ...   \n",
       "mean      0.237903     0.000161     0.026129     0.100806     0.036613  ...   \n",
       "std       0.425834     0.012700     0.159532     0.301097     0.187825  ...   \n",
       "min       0.000000     0.000000     0.000000     0.000000     0.000000  ...   \n",
       "25%       0.000000     0.000000     0.000000     0.000000     0.000000  ...   \n",
       "50%       0.000000     0.000000     0.000000     0.000000     0.000000  ...   \n",
       "75%       0.000000     0.000000     0.000000     0.000000     0.000000  ...   \n",
       "max       1.000000     1.000000     1.000000     1.000000     1.000000  ...   \n",
       "\n",
       "        is_holiday         Year          Day        Month         Hour  \\\n",
       "count  6200.000000  6200.000000  6200.000000  6200.000000  6200.000000   \n",
       "mean      0.184516  2018.365484    15.691935     6.813710    12.826452   \n",
       "std       0.387936     1.370054     8.745340     3.594906     5.813986   \n",
       "min       0.000000  2016.000000     1.000000     1.000000     0.000000   \n",
       "25%       0.000000  2017.000000     8.000000     4.000000     8.000000   \n",
       "50%       0.000000  2019.000000    16.000000     7.000000    14.000000   \n",
       "75%       0.000000  2020.000000    23.000000    10.000000    17.000000   \n",
       "max       1.000000  2020.000000    31.000000    12.000000    23.000000   \n",
       "\n",
       "       Weather_Condition  Temperature(F)  Humidity(%)  Wind_Speed(mph)  \\\n",
       "count        6200.000000     6200.000000  6200.000000      6200.000000   \n",
       "mean           11.091129       59.911194    68.166221        10.813835   \n",
       "std             6.951141        8.016504    16.279713         6.370120   \n",
       "min             0.000000       36.000000    10.000000         0.000000   \n",
       "25%             3.000000       54.000000    59.000000         6.000000   \n",
       "50%            14.000000       59.000000    70.000000        10.400000   \n",
       "75%            17.000000       64.900000    80.000000        15.000000   \n",
       "max            25.000000       98.000000   100.000000        40.300000   \n",
       "\n",
       "       Visibility(mi)  \n",
       "count     6200.000000  \n",
       "mean         9.441689  \n",
       "std          1.642199  \n",
       "min          0.120000  \n",
       "25%         10.000000  \n",
       "50%         10.000000  \n",
       "75%         10.000000  \n",
       "max         10.000000  \n",
       "\n",
       "[8 rows x 22 columns]"
      ]
     },
     "execution_count": 29,
     "metadata": {},
     "output_type": "execute_result"
    }
   ],
   "source": [
    "df_merged.drop(columns=[\"ID\"]).describe()"
   ]
  },
  {
   "cell_type": "markdown",
   "id": "01cd3145",
   "metadata": {
    "papermill": {
     "duration": 0.046103,
     "end_time": "2021-07-27T16:39:04.530792",
     "exception": false,
     "start_time": "2021-07-27T16:39:04.484689",
     "status": "completed"
    },
    "tags": []
   },
   "source": [
    "## Data Splitting\n",
    "\n",
    "Now it's time to split the dataset for the training step. Typically the dataset is split into 3 subsets, namely, the training, validation and test sets. In our case, the test set is already predefined. So we'll split the \"training\" set into training and validation sets with 0.8:0.2 ratio. \n",
    "\n",
    "*Note: a good way to generate reproducible results is to set the seed to the algorithms that depends on randomization. This is done with the argument `random_state` in the following command* "
   ]
  },
  {
   "cell_type": "code",
   "execution_count": 30,
   "id": "b8fdcf60",
   "metadata": {
    "execution": {
     "iopub.execute_input": "2021-07-27T16:39:04.627266Z",
     "iopub.status.busy": "2021-07-27T16:39:04.626586Z",
     "iopub.status.idle": "2021-07-27T16:39:04.636735Z",
     "shell.execute_reply": "2021-07-27T16:39:04.637330Z",
     "shell.execute_reply.started": "2021-07-27T16:38:23.689121Z"
    },
    "papermill": {
     "duration": 0.060184,
     "end_time": "2021-07-27T16:39:04.637517",
     "exception": false,
     "start_time": "2021-07-27T16:39:04.577333",
     "status": "completed"
    },
    "tags": []
   },
   "outputs": [],
   "source": [
    "from sklearn.model_selection import train_test_split\n",
    "\n",
    "train_df, val_df = train_test_split(df_merged, test_size=0.2, random_state=42) # Try adding `stratify` here\n",
    "\n",
    "X_train = train_df.drop(columns=['ID', 'Severity'])\n",
    "y_train = train_df['Severity']\n",
    "\n",
    "X_val = val_df.drop(columns=['ID', 'Severity']) \n",
    "y_val = val_df['Severity']"
   ]
  },
  {
   "cell_type": "markdown",
   "id": "72de3ed2",
   "metadata": {
    "papermill": {
     "duration": 0.046309,
     "end_time": "2021-07-27T16:39:04.730479",
     "exception": false,
     "start_time": "2021-07-27T16:39:04.684170",
     "status": "completed"
    },
    "tags": []
   },
   "source": [
    "As pointed out eariler, I'll use the numerical features to train the classifier. **However, you shouldn't use the numerical features only to make the final submission if you want to make it to the top of the leaderboard.** "
   ]
  },
  {
   "cell_type": "code",
   "execution_count": 31,
   "id": "8063c082",
   "metadata": {
    "execution": {
     "iopub.execute_input": "2021-07-27T16:39:04.826737Z",
     "iopub.status.busy": "2021-07-27T16:39:04.826075Z",
     "iopub.status.idle": "2021-07-27T16:39:04.832555Z",
     "shell.execute_reply": "2021-07-27T16:39:04.833110Z",
     "shell.execute_reply.started": "2021-07-27T16:38:23.705818Z"
    },
    "papermill": {
     "duration": 0.056234,
     "end_time": "2021-07-27T16:39:04.833297",
     "exception": false,
     "start_time": "2021-07-27T16:39:04.777063",
     "status": "completed"
    },
    "tags": []
   },
   "outputs": [],
   "source": [
    "X_train = X_train[['Lat','Lng', 'Crossing', 'Stop','Weather_Condition','is_holiday']]\n",
    "\n",
    "X_val = X_val[['Lat','Lng', 'Crossing', 'Stop','Weather_Condition','is_holiday']]"
   ]
  },
  {
   "cell_type": "markdown",
   "id": "e8cec85e",
   "metadata": {
    "papermill": {
     "duration": 0.046667,
     "end_time": "2021-07-27T16:39:04.926785",
     "exception": false,
     "start_time": "2021-07-27T16:39:04.880118",
     "status": "completed"
    },
    "tags": []
   },
   "source": [
    "## Model Training\n",
    "\n",
    "Let's train a model with the data! We'll train a Random Forest Classifier to demonstrate the process of making submissions. "
   ]
  },
  {
   "cell_type": "code",
   "execution_count": 32,
   "id": "86581b4a",
   "metadata": {
    "execution": {
     "iopub.execute_input": "2021-07-27T16:39:05.024065Z",
     "iopub.status.busy": "2021-07-27T16:39:05.023415Z",
     "iopub.status.idle": "2021-07-27T16:39:05.333040Z",
     "shell.execute_reply": "2021-07-27T16:39:05.332336Z",
     "shell.execute_reply.started": "2021-07-27T16:38:23.716154Z"
    },
    "papermill": {
     "duration": 0.359681,
     "end_time": "2021-07-27T16:39:05.333185",
     "exception": false,
     "start_time": "2021-07-27T16:39:04.973504",
     "status": "completed"
    },
    "tags": []
   },
   "outputs": [],
   "source": [
    "from sklearn.ensemble import RandomForestClassifier\n",
    "\n",
    "# Create an instance of the classifier\n",
    "classifier = RandomForestClassifier(max_depth=2,random_state=0)\n",
    "\n",
    "# Train the classifier\n",
    "classifier = classifier.fit(X_train, y_train)"
   ]
  },
  {
   "cell_type": "markdown",
   "id": "c554b146",
   "metadata": {
    "papermill": {
     "duration": 0.046545,
     "end_time": "2021-07-27T16:39:05.427130",
     "exception": false,
     "start_time": "2021-07-27T16:39:05.380585",
     "status": "completed"
    },
    "tags": []
   },
   "source": [
    "Now let's test our classifier on the validation dataset and see the accuracy."
   ]
  },
  {
   "cell_type": "code",
   "execution_count": 33,
   "id": "96fbb09f",
   "metadata": {
    "execution": {
     "iopub.execute_input": "2021-07-27T16:39:05.530335Z",
     "iopub.status.busy": "2021-07-27T16:39:05.529628Z",
     "iopub.status.idle": "2021-07-27T16:39:05.550427Z",
     "shell.execute_reply": "2021-07-27T16:39:05.549742Z",
     "shell.execute_reply.started": "2021-07-27T16:38:24.026545Z"
    },
    "papermill": {
     "duration": 0.076092,
     "end_time": "2021-07-27T16:39:05.550570",
     "exception": false,
     "start_time": "2021-07-27T16:39:05.474478",
     "status": "completed"
    },
    "tags": []
   },
   "outputs": [
    {
     "name": "stdout",
     "output_type": "stream",
     "text": [
      "The accuracy of the classifier on the validation set is  0.7612903225806451\n"
     ]
    }
   ],
   "source": [
    "print(\"The accuracy of the classifier on the validation set is \", (classifier.score(X_val, y_val)))"
   ]
  },
  {
   "cell_type": "markdown",
   "id": "4016c756",
   "metadata": {
    "papermill": {
     "duration": 0.04694,
     "end_time": "2021-07-27T16:39:05.646855",
     "exception": false,
     "start_time": "2021-07-27T16:39:05.599915",
     "status": "completed"
    },
    "tags": []
   },
   "source": [
    "Well. That's a good start, right? A classifier that predicts all examples' `Severity` as 2 will get around 0.63. You should get better score as you add more features and do better data preprocessing."
   ]
  },
  {
   "cell_type": "markdown",
   "id": "f33d3280",
   "metadata": {
    "papermill": {
     "duration": 0.046584,
     "end_time": "2021-07-27T16:39:05.740729",
     "exception": false,
     "start_time": "2021-07-27T16:39:05.694145",
     "status": "completed"
    },
    "tags": []
   },
   "source": [
    "## Submission File Generation\n",
    "\n",
    "We have built a model and we'd like to submit our predictions on the test set! In order to do that, we'll load the test set, predict the class and save the submission file. \n",
    "\n",
    "First, we'll load the data."
   ]
  },
  {
   "cell_type": "code",
   "execution_count": 34,
   "id": "dd0b7b68",
   "metadata": {
    "execution": {
     "iopub.execute_input": "2021-07-27T16:39:05.840408Z",
     "iopub.status.busy": "2021-07-27T16:39:05.839515Z",
     "iopub.status.idle": "2021-07-27T16:39:05.873633Z",
     "shell.execute_reply": "2021-07-27T16:39:05.873073Z",
     "shell.execute_reply.started": "2021-07-27T16:38:24.058122Z"
    },
    "papermill": {
     "duration": 0.085665,
     "end_time": "2021-07-27T16:39:05.873797",
     "exception": false,
     "start_time": "2021-07-27T16:39:05.788132",
     "status": "completed"
    },
    "tags": []
   },
   "outputs": [
    {
     "data": {
      "text/html": [
       "<div>\n",
       "<style scoped>\n",
       "    .dataframe tbody tr th:only-of-type {\n",
       "        vertical-align: middle;\n",
       "    }\n",
       "\n",
       "    .dataframe tbody tr th {\n",
       "        vertical-align: top;\n",
       "    }\n",
       "\n",
       "    .dataframe thead th {\n",
       "        text-align: right;\n",
       "    }\n",
       "</style>\n",
       "<table border=\"1\" class=\"dataframe\">\n",
       "  <thead>\n",
       "    <tr style=\"text-align: right;\">\n",
       "      <th></th>\n",
       "      <th>ID</th>\n",
       "      <th>Lat</th>\n",
       "      <th>Lng</th>\n",
       "      <th>Bump</th>\n",
       "      <th>Distance(mi)</th>\n",
       "      <th>Crossing</th>\n",
       "      <th>Give_Way</th>\n",
       "      <th>Junction</th>\n",
       "      <th>No_Exit</th>\n",
       "      <th>Railway</th>\n",
       "      <th>Roundabout</th>\n",
       "      <th>Stop</th>\n",
       "      <th>Amenity</th>\n",
       "      <th>Side</th>\n",
       "      <th>timestamp</th>\n",
       "    </tr>\n",
       "  </thead>\n",
       "  <tbody>\n",
       "    <tr>\n",
       "      <th>0</th>\n",
       "      <td>6407</td>\n",
       "      <td>37.786060</td>\n",
       "      <td>-122.390900</td>\n",
       "      <td>False</td>\n",
       "      <td>0.039</td>\n",
       "      <td>False</td>\n",
       "      <td>False</td>\n",
       "      <td>True</td>\n",
       "      <td>False</td>\n",
       "      <td>False</td>\n",
       "      <td>False</td>\n",
       "      <td>False</td>\n",
       "      <td>False</td>\n",
       "      <td>R</td>\n",
       "      <td>2016-04-04 19:20:31</td>\n",
       "    </tr>\n",
       "    <tr>\n",
       "      <th>1</th>\n",
       "      <td>6408</td>\n",
       "      <td>37.769609</td>\n",
       "      <td>-122.415057</td>\n",
       "      <td>False</td>\n",
       "      <td>0.202</td>\n",
       "      <td>False</td>\n",
       "      <td>False</td>\n",
       "      <td>False</td>\n",
       "      <td>False</td>\n",
       "      <td>False</td>\n",
       "      <td>False</td>\n",
       "      <td>False</td>\n",
       "      <td>False</td>\n",
       "      <td>R</td>\n",
       "      <td>2020-10-28 11:51:00</td>\n",
       "    </tr>\n",
       "    <tr>\n",
       "      <th>2</th>\n",
       "      <td>6409</td>\n",
       "      <td>37.807495</td>\n",
       "      <td>-122.476021</td>\n",
       "      <td>False</td>\n",
       "      <td>0.000</td>\n",
       "      <td>False</td>\n",
       "      <td>False</td>\n",
       "      <td>False</td>\n",
       "      <td>False</td>\n",
       "      <td>False</td>\n",
       "      <td>False</td>\n",
       "      <td>False</td>\n",
       "      <td>False</td>\n",
       "      <td>R</td>\n",
       "      <td>2019-09-09 07:36:45</td>\n",
       "    </tr>\n",
       "    <tr>\n",
       "      <th>3</th>\n",
       "      <td>6410</td>\n",
       "      <td>37.761818</td>\n",
       "      <td>-122.405869</td>\n",
       "      <td>False</td>\n",
       "      <td>0.000</td>\n",
       "      <td>False</td>\n",
       "      <td>False</td>\n",
       "      <td>True</td>\n",
       "      <td>False</td>\n",
       "      <td>False</td>\n",
       "      <td>False</td>\n",
       "      <td>False</td>\n",
       "      <td>False</td>\n",
       "      <td>R</td>\n",
       "      <td>2019-08-06 15:46:25</td>\n",
       "    </tr>\n",
       "    <tr>\n",
       "      <th>4</th>\n",
       "      <td>6411</td>\n",
       "      <td>37.732350</td>\n",
       "      <td>-122.414100</td>\n",
       "      <td>False</td>\n",
       "      <td>0.670</td>\n",
       "      <td>False</td>\n",
       "      <td>False</td>\n",
       "      <td>False</td>\n",
       "      <td>False</td>\n",
       "      <td>False</td>\n",
       "      <td>False</td>\n",
       "      <td>False</td>\n",
       "      <td>False</td>\n",
       "      <td>R</td>\n",
       "      <td>2018-10-17 09:54:58</td>\n",
       "    </tr>\n",
       "  </tbody>\n",
       "</table>\n",
       "</div>"
      ],
      "text/plain": [
       "     ID        Lat         Lng   Bump  Distance(mi)  Crossing  Give_Way  \\\n",
       "0  6407  37.786060 -122.390900  False         0.039     False     False   \n",
       "1  6408  37.769609 -122.415057  False         0.202     False     False   \n",
       "2  6409  37.807495 -122.476021  False         0.000     False     False   \n",
       "3  6410  37.761818 -122.405869  False         0.000     False     False   \n",
       "4  6411  37.732350 -122.414100  False         0.670     False     False   \n",
       "\n",
       "   Junction  No_Exit  Railway  Roundabout   Stop  Amenity Side  \\\n",
       "0      True    False    False       False  False    False    R   \n",
       "1     False    False    False       False  False    False    R   \n",
       "2     False    False    False       False  False    False    R   \n",
       "3      True    False    False       False  False    False    R   \n",
       "4     False    False    False       False  False    False    R   \n",
       "\n",
       "             timestamp  \n",
       "0  2016-04-04 19:20:31  \n",
       "1  2020-10-28 11:51:00  \n",
       "2  2019-09-09 07:36:45  \n",
       "3  2019-08-06 15:46:25  \n",
       "4  2018-10-17 09:54:58  "
      ]
     },
     "execution_count": 34,
     "metadata": {},
     "output_type": "execute_result"
    }
   ],
   "source": [
    "test_df = pd.read_csv(os.path.join(dataset_path, 'test.csv'))\n",
    "test_df.head()"
   ]
  },
  {
   "cell_type": "markdown",
   "id": "dfce8332",
   "metadata": {
    "papermill": {
     "duration": 0.049375,
     "end_time": "2021-07-27T16:39:05.975997",
     "exception": false,
     "start_time": "2021-07-27T16:39:05.926622",
     "status": "completed"
    },
    "tags": []
   },
   "source": [
    "Note that the test set has the same features and doesn't have the `Severity` column.\n",
    "At this stage one must **NOT** forget to apply the same processing done on the training set on the features of the test set.\n",
    "\n",
    "Now we'll add `Severity` column to the test `DataFrame` and add the values of the predicted class to it.\n",
    "\n",
    "**I'll select the numerical features here as I did in the training set. DO NOT forget to change this step as you change the preprocessing of the training data.**"
   ]
  },
  {
   "cell_type": "code",
   "execution_count": 35,
   "id": "8371bb22",
   "metadata": {
    "execution": {
     "iopub.execute_input": "2021-07-27T16:39:06.110517Z",
     "iopub.status.busy": "2021-07-27T16:39:06.109770Z",
     "iopub.status.idle": "2021-07-27T16:39:06.136665Z",
     "shell.execute_reply": "2021-07-27T16:39:06.137590Z",
     "shell.execute_reply.started": "2021-07-27T16:38:24.094654Z"
    },
    "papermill": {
     "duration": 0.113632,
     "end_time": "2021-07-27T16:39:06.137844",
     "exception": false,
     "start_time": "2021-07-27T16:39:06.024212",
     "status": "completed"
    },
    "tags": []
   },
   "outputs": [
    {
     "name": "stdout",
     "output_type": "stream",
     "text": [
      "<class 'pandas.core.frame.DataFrame'>\n",
      "Int64Index: 1601 entries, 0 to 1600\n",
      "Data columns (total 22 columns):\n",
      " #   Column             Non-Null Count  Dtype  \n",
      "---  ------             --------------  -----  \n",
      " 0   ID                 1601 non-null   int64  \n",
      " 1   Lat                1601 non-null   float64\n",
      " 2   Lng                1601 non-null   float64\n",
      " 3   Distance(mi)       1601 non-null   float64\n",
      " 4   Crossing           1601 non-null   int64  \n",
      " 5   Give_Way           1601 non-null   int64  \n",
      " 6   Junction           1601 non-null   int64  \n",
      " 7   No_Exit            1601 non-null   int64  \n",
      " 8   Railway            1601 non-null   int64  \n",
      " 9   Stop               1601 non-null   int64  \n",
      " 10  Amenity            1601 non-null   int64  \n",
      " 11  Side               1601 non-null   int64  \n",
      " 12  is_holiday         1601 non-null   int64  \n",
      " 13  Year               1601 non-null   int64  \n",
      " 14  Day                1601 non-null   int64  \n",
      " 15  Month              1601 non-null   int64  \n",
      " 16  Hour               1601 non-null   int64  \n",
      " 17  Weather_Condition  1601 non-null   int64  \n",
      " 18  Temperature(F)     1601 non-null   float64\n",
      " 19  Humidity(%)        1601 non-null   float64\n",
      " 20  Wind_Speed(mph)    1601 non-null   float64\n",
      " 21  Visibility(mi)     1601 non-null   float64\n",
      "dtypes: float64(7), int64(15)\n",
      "memory usage: 287.7 KB\n"
     ]
    }
   ],
   "source": [
    "test_df.drop(columns=['Bump','Roundabout'],inplace=True)\n",
    "\n",
    "test_df['timestamp']=pd.to_datetime(test_df['timestamp'])\n",
    "test_df['date_time']=pd.to_datetime(test_df['timestamp'].dt.strftime('%Y-%m-%d %H:00:00'))\n",
    "\n",
    "\n",
    "test_df['Crossing'] = test_df['Crossing'].astype(int)\n",
    "test_df['Give_Way'] = test_df['Give_Way'].astype(int)\n",
    "test_df['Junction'] = test_df['Junction'].astype(int)\n",
    "test_df['No_Exit'] = test_df['No_Exit'].astype(int)\n",
    "test_df['Railway'] = test_df['Railway'].astype(int)\n",
    "test_df['Stop'] = test_df['Stop'].astype(int)\n",
    "test_df['Amenity'] = test_df['Amenity'].astype(int)\n",
    "\n",
    "test_df['Side'] = labelencoder.fit_transform(test_df['Side'])\n",
    "\n",
    "test_df['is_holiday']=test_df['timestamp'].dt.date.isin(holidays_df['date'].dt.date).astype(int)  \n",
    "\n",
    "test_df_merged =pd.merge(test_df, weather_df, how='left', on=['date_time'])\n",
    "\n",
    "test_df_merged.dropna(inplace=True)\n",
    "\n",
    "test_df_merged.drop(columns=['date_time','timestamp'],inplace=True)\n",
    "test_df_merged.info()"
   ]
  },
  {
   "cell_type": "code",
   "execution_count": 36,
   "id": "1a9e1303",
   "metadata": {
    "execution": {
     "iopub.execute_input": "2021-07-27T16:39:06.264591Z",
     "iopub.status.busy": "2021-07-27T16:39:06.263573Z",
     "iopub.status.idle": "2021-07-27T16:39:06.268186Z",
     "shell.execute_reply": "2021-07-27T16:39:06.268635Z",
     "shell.execute_reply.started": "2021-07-27T16:38:24.162563Z"
    },
    "papermill": {
     "duration": 0.080261,
     "end_time": "2021-07-27T16:39:06.268811",
     "exception": false,
     "start_time": "2021-07-27T16:39:06.188550",
     "status": "completed"
    },
    "tags": []
   },
   "outputs": [
    {
     "data": {
      "text/html": [
       "<div>\n",
       "<style scoped>\n",
       "    .dataframe tbody tr th:only-of-type {\n",
       "        vertical-align: middle;\n",
       "    }\n",
       "\n",
       "    .dataframe tbody tr th {\n",
       "        vertical-align: top;\n",
       "    }\n",
       "\n",
       "    .dataframe thead th {\n",
       "        text-align: right;\n",
       "    }\n",
       "</style>\n",
       "<table border=\"1\" class=\"dataframe\">\n",
       "  <thead>\n",
       "    <tr style=\"text-align: right;\">\n",
       "      <th></th>\n",
       "      <th>ID</th>\n",
       "      <th>Lat</th>\n",
       "      <th>Lng</th>\n",
       "      <th>Distance(mi)</th>\n",
       "      <th>Crossing</th>\n",
       "      <th>Give_Way</th>\n",
       "      <th>Junction</th>\n",
       "      <th>No_Exit</th>\n",
       "      <th>Railway</th>\n",
       "      <th>Stop</th>\n",
       "      <th>...</th>\n",
       "      <th>is_holiday</th>\n",
       "      <th>Year</th>\n",
       "      <th>Day</th>\n",
       "      <th>Month</th>\n",
       "      <th>Hour</th>\n",
       "      <th>Weather_Condition</th>\n",
       "      <th>Temperature(F)</th>\n",
       "      <th>Humidity(%)</th>\n",
       "      <th>Wind_Speed(mph)</th>\n",
       "      <th>Visibility(mi)</th>\n",
       "    </tr>\n",
       "  </thead>\n",
       "  <tbody>\n",
       "    <tr>\n",
       "      <th>0</th>\n",
       "      <td>6407</td>\n",
       "      <td>37.786060</td>\n",
       "      <td>-122.390900</td>\n",
       "      <td>0.039</td>\n",
       "      <td>0</td>\n",
       "      <td>0</td>\n",
       "      <td>1</td>\n",
       "      <td>0</td>\n",
       "      <td>0</td>\n",
       "      <td>0</td>\n",
       "      <td>...</td>\n",
       "      <td>0</td>\n",
       "      <td>2016</td>\n",
       "      <td>4</td>\n",
       "      <td>4</td>\n",
       "      <td>19</td>\n",
       "      <td>17</td>\n",
       "      <td>63.0</td>\n",
       "      <td>60.0</td>\n",
       "      <td>10.4</td>\n",
       "      <td>10.0</td>\n",
       "    </tr>\n",
       "    <tr>\n",
       "      <th>1</th>\n",
       "      <td>6408</td>\n",
       "      <td>37.769609</td>\n",
       "      <td>-122.415057</td>\n",
       "      <td>0.202</td>\n",
       "      <td>0</td>\n",
       "      <td>0</td>\n",
       "      <td>0</td>\n",
       "      <td>0</td>\n",
       "      <td>0</td>\n",
       "      <td>0</td>\n",
       "      <td>...</td>\n",
       "      <td>0</td>\n",
       "      <td>2020</td>\n",
       "      <td>28</td>\n",
       "      <td>10</td>\n",
       "      <td>11</td>\n",
       "      <td>3</td>\n",
       "      <td>65.0</td>\n",
       "      <td>56.0</td>\n",
       "      <td>5.0</td>\n",
       "      <td>9.0</td>\n",
       "    </tr>\n",
       "    <tr>\n",
       "      <th>2</th>\n",
       "      <td>6409</td>\n",
       "      <td>37.807495</td>\n",
       "      <td>-122.476021</td>\n",
       "      <td>0.000</td>\n",
       "      <td>0</td>\n",
       "      <td>0</td>\n",
       "      <td>0</td>\n",
       "      <td>0</td>\n",
       "      <td>0</td>\n",
       "      <td>0</td>\n",
       "      <td>...</td>\n",
       "      <td>0</td>\n",
       "      <td>2019</td>\n",
       "      <td>9</td>\n",
       "      <td>9</td>\n",
       "      <td>7</td>\n",
       "      <td>14</td>\n",
       "      <td>59.0</td>\n",
       "      <td>87.0</td>\n",
       "      <td>14.0</td>\n",
       "      <td>10.0</td>\n",
       "    </tr>\n",
       "    <tr>\n",
       "      <th>3</th>\n",
       "      <td>6410</td>\n",
       "      <td>37.761818</td>\n",
       "      <td>-122.405869</td>\n",
       "      <td>0.000</td>\n",
       "      <td>0</td>\n",
       "      <td>0</td>\n",
       "      <td>1</td>\n",
       "      <td>0</td>\n",
       "      <td>0</td>\n",
       "      <td>0</td>\n",
       "      <td>...</td>\n",
       "      <td>0</td>\n",
       "      <td>2019</td>\n",
       "      <td>6</td>\n",
       "      <td>8</td>\n",
       "      <td>15</td>\n",
       "      <td>3</td>\n",
       "      <td>72.0</td>\n",
       "      <td>59.0</td>\n",
       "      <td>17.0</td>\n",
       "      <td>10.0</td>\n",
       "    </tr>\n",
       "    <tr>\n",
       "      <th>4</th>\n",
       "      <td>6411</td>\n",
       "      <td>37.732350</td>\n",
       "      <td>-122.414100</td>\n",
       "      <td>0.670</td>\n",
       "      <td>0</td>\n",
       "      <td>0</td>\n",
       "      <td>0</td>\n",
       "      <td>0</td>\n",
       "      <td>0</td>\n",
       "      <td>0</td>\n",
       "      <td>...</td>\n",
       "      <td>0</td>\n",
       "      <td>2018</td>\n",
       "      <td>17</td>\n",
       "      <td>10</td>\n",
       "      <td>9</td>\n",
       "      <td>22</td>\n",
       "      <td>57.0</td>\n",
       "      <td>77.0</td>\n",
       "      <td>5.8</td>\n",
       "      <td>10.0</td>\n",
       "    </tr>\n",
       "  </tbody>\n",
       "</table>\n",
       "<p>5 rows × 22 columns</p>\n",
       "</div>"
      ],
      "text/plain": [
       "     ID        Lat         Lng  Distance(mi)  Crossing  Give_Way  Junction  \\\n",
       "0  6407  37.786060 -122.390900         0.039         0         0         1   \n",
       "1  6408  37.769609 -122.415057         0.202         0         0         0   \n",
       "2  6409  37.807495 -122.476021         0.000         0         0         0   \n",
       "3  6410  37.761818 -122.405869         0.000         0         0         1   \n",
       "4  6411  37.732350 -122.414100         0.670         0         0         0   \n",
       "\n",
       "   No_Exit  Railway  Stop  ...  is_holiday  Year  Day  Month  Hour  \\\n",
       "0        0        0     0  ...           0  2016    4      4    19   \n",
       "1        0        0     0  ...           0  2020   28     10    11   \n",
       "2        0        0     0  ...           0  2019    9      9     7   \n",
       "3        0        0     0  ...           0  2019    6      8    15   \n",
       "4        0        0     0  ...           0  2018   17     10     9   \n",
       "\n",
       "   Weather_Condition  Temperature(F)  Humidity(%)  Wind_Speed(mph)  \\\n",
       "0                 17            63.0         60.0             10.4   \n",
       "1                  3            65.0         56.0              5.0   \n",
       "2                 14            59.0         87.0             14.0   \n",
       "3                  3            72.0         59.0             17.0   \n",
       "4                 22            57.0         77.0              5.8   \n",
       "\n",
       "   Visibility(mi)  \n",
       "0            10.0  \n",
       "1             9.0  \n",
       "2            10.0  \n",
       "3            10.0  \n",
       "4            10.0  \n",
       "\n",
       "[5 rows x 22 columns]"
      ]
     },
     "execution_count": 36,
     "metadata": {},
     "output_type": "execute_result"
    }
   ],
   "source": [
    "test_df_merged.head()"
   ]
  },
  {
   "cell_type": "code",
   "execution_count": 37,
   "id": "58dffa0d",
   "metadata": {
    "execution": {
     "iopub.execute_input": "2021-07-27T16:39:06.379081Z",
     "iopub.status.busy": "2021-07-27T16:39:06.378005Z",
     "iopub.status.idle": "2021-07-27T16:39:06.421991Z",
     "shell.execute_reply": "2021-07-27T16:39:06.421310Z",
     "shell.execute_reply.started": "2021-07-27T16:38:24.198069Z"
    },
    "papermill": {
     "duration": 0.104514,
     "end_time": "2021-07-27T16:39:06.422159",
     "exception": false,
     "start_time": "2021-07-27T16:39:06.317645",
     "status": "completed"
    },
    "tags": []
   },
   "outputs": [
    {
     "data": {
      "text/html": [
       "<div>\n",
       "<style scoped>\n",
       "    .dataframe tbody tr th:only-of-type {\n",
       "        vertical-align: middle;\n",
       "    }\n",
       "\n",
       "    .dataframe tbody tr th {\n",
       "        vertical-align: top;\n",
       "    }\n",
       "\n",
       "    .dataframe thead th {\n",
       "        text-align: right;\n",
       "    }\n",
       "</style>\n",
       "<table border=\"1\" class=\"dataframe\">\n",
       "  <thead>\n",
       "    <tr style=\"text-align: right;\">\n",
       "      <th></th>\n",
       "      <th>ID</th>\n",
       "      <th>Lat</th>\n",
       "      <th>Lng</th>\n",
       "      <th>Distance(mi)</th>\n",
       "      <th>Crossing</th>\n",
       "      <th>Give_Way</th>\n",
       "      <th>Junction</th>\n",
       "      <th>No_Exit</th>\n",
       "      <th>Railway</th>\n",
       "      <th>Stop</th>\n",
       "      <th>...</th>\n",
       "      <th>is_holiday</th>\n",
       "      <th>Year</th>\n",
       "      <th>Day</th>\n",
       "      <th>Month</th>\n",
       "      <th>Hour</th>\n",
       "      <th>Weather_Condition</th>\n",
       "      <th>Temperature(F)</th>\n",
       "      <th>Humidity(%)</th>\n",
       "      <th>Wind_Speed(mph)</th>\n",
       "      <th>Visibility(mi)</th>\n",
       "    </tr>\n",
       "  </thead>\n",
       "  <tbody>\n",
       "    <tr>\n",
       "      <th>0</th>\n",
       "      <td>6407</td>\n",
       "      <td>37.786060</td>\n",
       "      <td>-122.390900</td>\n",
       "      <td>0.039</td>\n",
       "      <td>0</td>\n",
       "      <td>0</td>\n",
       "      <td>1</td>\n",
       "      <td>0</td>\n",
       "      <td>0</td>\n",
       "      <td>0</td>\n",
       "      <td>...</td>\n",
       "      <td>0</td>\n",
       "      <td>2016</td>\n",
       "      <td>4</td>\n",
       "      <td>4</td>\n",
       "      <td>19</td>\n",
       "      <td>17</td>\n",
       "      <td>63.0</td>\n",
       "      <td>60.0</td>\n",
       "      <td>10.4</td>\n",
       "      <td>10.0</td>\n",
       "    </tr>\n",
       "    <tr>\n",
       "      <th>1</th>\n",
       "      <td>6408</td>\n",
       "      <td>37.769609</td>\n",
       "      <td>-122.415057</td>\n",
       "      <td>0.202</td>\n",
       "      <td>0</td>\n",
       "      <td>0</td>\n",
       "      <td>0</td>\n",
       "      <td>0</td>\n",
       "      <td>0</td>\n",
       "      <td>0</td>\n",
       "      <td>...</td>\n",
       "      <td>0</td>\n",
       "      <td>2020</td>\n",
       "      <td>28</td>\n",
       "      <td>10</td>\n",
       "      <td>11</td>\n",
       "      <td>3</td>\n",
       "      <td>65.0</td>\n",
       "      <td>56.0</td>\n",
       "      <td>5.0</td>\n",
       "      <td>9.0</td>\n",
       "    </tr>\n",
       "    <tr>\n",
       "      <th>2</th>\n",
       "      <td>6409</td>\n",
       "      <td>37.807495</td>\n",
       "      <td>-122.476021</td>\n",
       "      <td>0.000</td>\n",
       "      <td>0</td>\n",
       "      <td>0</td>\n",
       "      <td>0</td>\n",
       "      <td>0</td>\n",
       "      <td>0</td>\n",
       "      <td>0</td>\n",
       "      <td>...</td>\n",
       "      <td>0</td>\n",
       "      <td>2019</td>\n",
       "      <td>9</td>\n",
       "      <td>9</td>\n",
       "      <td>7</td>\n",
       "      <td>14</td>\n",
       "      <td>59.0</td>\n",
       "      <td>87.0</td>\n",
       "      <td>14.0</td>\n",
       "      <td>10.0</td>\n",
       "    </tr>\n",
       "    <tr>\n",
       "      <th>3</th>\n",
       "      <td>6410</td>\n",
       "      <td>37.761818</td>\n",
       "      <td>-122.405869</td>\n",
       "      <td>0.000</td>\n",
       "      <td>0</td>\n",
       "      <td>0</td>\n",
       "      <td>1</td>\n",
       "      <td>0</td>\n",
       "      <td>0</td>\n",
       "      <td>0</td>\n",
       "      <td>...</td>\n",
       "      <td>0</td>\n",
       "      <td>2019</td>\n",
       "      <td>6</td>\n",
       "      <td>8</td>\n",
       "      <td>15</td>\n",
       "      <td>3</td>\n",
       "      <td>72.0</td>\n",
       "      <td>59.0</td>\n",
       "      <td>17.0</td>\n",
       "      <td>10.0</td>\n",
       "    </tr>\n",
       "    <tr>\n",
       "      <th>4</th>\n",
       "      <td>6411</td>\n",
       "      <td>37.732350</td>\n",
       "      <td>-122.414100</td>\n",
       "      <td>0.670</td>\n",
       "      <td>0</td>\n",
       "      <td>0</td>\n",
       "      <td>0</td>\n",
       "      <td>0</td>\n",
       "      <td>0</td>\n",
       "      <td>0</td>\n",
       "      <td>...</td>\n",
       "      <td>0</td>\n",
       "      <td>2018</td>\n",
       "      <td>17</td>\n",
       "      <td>10</td>\n",
       "      <td>9</td>\n",
       "      <td>22</td>\n",
       "      <td>57.0</td>\n",
       "      <td>77.0</td>\n",
       "      <td>5.8</td>\n",
       "      <td>10.0</td>\n",
       "    </tr>\n",
       "  </tbody>\n",
       "</table>\n",
       "<p>5 rows × 22 columns</p>\n",
       "</div>"
      ],
      "text/plain": [
       "     ID        Lat         Lng  Distance(mi)  Crossing  Give_Way  Junction  \\\n",
       "0  6407  37.786060 -122.390900         0.039         0         0         1   \n",
       "1  6408  37.769609 -122.415057         0.202         0         0         0   \n",
       "2  6409  37.807495 -122.476021         0.000         0         0         0   \n",
       "3  6410  37.761818 -122.405869         0.000         0         0         1   \n",
       "4  6411  37.732350 -122.414100         0.670         0         0         0   \n",
       "\n",
       "   No_Exit  Railway  Stop  ...  is_holiday  Year  Day  Month  Hour  \\\n",
       "0        0        0     0  ...           0  2016    4      4    19   \n",
       "1        0        0     0  ...           0  2020   28     10    11   \n",
       "2        0        0     0  ...           0  2019    9      9     7   \n",
       "3        0        0     0  ...           0  2019    6      8    15   \n",
       "4        0        0     0  ...           0  2018   17     10     9   \n",
       "\n",
       "   Weather_Condition  Temperature(F)  Humidity(%)  Wind_Speed(mph)  \\\n",
       "0                 17            63.0         60.0             10.4   \n",
       "1                  3            65.0         56.0              5.0   \n",
       "2                 14            59.0         87.0             14.0   \n",
       "3                  3            72.0         59.0             17.0   \n",
       "4                 22            57.0         77.0              5.8   \n",
       "\n",
       "   Visibility(mi)  \n",
       "0            10.0  \n",
       "1             9.0  \n",
       "2            10.0  \n",
       "3            10.0  \n",
       "4            10.0  \n",
       "\n",
       "[5 rows x 22 columns]"
      ]
     },
     "execution_count": 37,
     "metadata": {},
     "output_type": "execute_result"
    }
   ],
   "source": [
    "X_test = test_df_merged.drop(columns=['ID'])\n",
    "\n",
    "# You should update/remove the next line once you change the features used for training\n",
    "X_test = X_test[['Lat','Lng', 'Crossing', 'Stop','Weather_Condition','is_holiday']]\n",
    "X_test.isna().sum()\n",
    "y_test_predicted = classifier.predict(X_test)\n",
    "\n",
    "test_df['Severity'] = y_test_predicted\n",
    "\n",
    "test_df_merged.head()"
   ]
  },
  {
   "cell_type": "markdown",
   "id": "30bf4be7",
   "metadata": {
    "papermill": {
     "duration": 0.049577,
     "end_time": "2021-07-27T16:39:06.525856",
     "exception": false,
     "start_time": "2021-07-27T16:39:06.476279",
     "status": "completed"
    },
    "tags": []
   },
   "source": [
    "Now we're ready to generate the submission file. The submission file needs the columns `ID` and `Severity` only."
   ]
  },
  {
   "cell_type": "code",
   "execution_count": 38,
   "id": "24223bb1",
   "metadata": {
    "execution": {
     "iopub.execute_input": "2021-07-27T16:39:06.632537Z",
     "iopub.status.busy": "2021-07-27T16:39:06.631852Z",
     "iopub.status.idle": "2021-07-27T16:39:06.640219Z",
     "shell.execute_reply": "2021-07-27T16:39:06.640706Z",
     "shell.execute_reply.started": "2021-07-27T16:38:24.261499Z"
    },
    "papermill": {
     "duration": 0.065571,
     "end_time": "2021-07-27T16:39:06.640887",
     "exception": false,
     "start_time": "2021-07-27T16:39:06.575316",
     "status": "completed"
    },
    "tags": []
   },
   "outputs": [],
   "source": [
    "test_df[['ID', 'Severity']].to_csv('/kaggle/working/submission.csv', index=False)"
   ]
  },
  {
   "cell_type": "markdown",
   "id": "30ab0627",
   "metadata": {
    "papermill": {
     "duration": 0.05064,
     "end_time": "2021-07-27T16:39:06.742242",
     "exception": false,
     "start_time": "2021-07-27T16:39:06.691602",
     "status": "completed"
    },
    "tags": []
   },
   "source": [
    "The remaining steps is to submit the generated file and are as follows. \n",
    "\n",
    "1. Press `Save Version` on the upper right corner of this notebook.\n",
    "2. Write a `Version Name` of your choice and choose `Save & Run All (Commit)` then click `Save`.\n",
    "3. Wait for the saved notebook to finish running the go to the saved notebook.\n",
    "4. Scroll down until you see the output files then select the `submission.csv` file and click `Submit`.\n",
    "\n",
    "Now your submission will be evaluated and your score will be updated on the leaderboard! CONGRATULATIONS!!"
   ]
  },
  {
   "cell_type": "markdown",
   "id": "c7203e96",
   "metadata": {
    "papermill": {
     "duration": 0.049474,
     "end_time": "2021-07-27T16:39:06.842843",
     "exception": false,
     "start_time": "2021-07-27T16:39:06.793369",
     "status": "completed"
    },
    "tags": []
   },
   "source": [
    "## Conclusion\n",
    "\n",
    "In this notebook, we have demonstrated the essential steps that one should do in order to get \"slightly\" familiar with the data and the submission process. We chose not to go into details in each step to keep the welcoming notebook simple and make a room for improvement.\n",
    "\n",
    "You're encourged to `Fork` the notebook, edit it, add your insights and use it to create your submission."
   ]
  }
 ],
 "metadata": {
  "kernelspec": {
   "display_name": "Python 3",
   "language": "python",
   "name": "python3"
  },
  "language_info": {
   "codemirror_mode": {
    "name": "ipython",
    "version": 3
   },
   "file_extension": ".py",
   "mimetype": "text/x-python",
   "name": "python",
   "nbconvert_exporter": "python",
   "pygments_lexer": "ipython3",
   "version": "3.7.10"
  },
  "papermill": {
   "default_parameters": {},
   "duration": 17.940588,
   "end_time": "2021-07-27T16:39:08.171431",
   "environment_variables": {},
   "exception": null,
   "input_path": "__notebook__.ipynb",
   "output_path": "__notebook__.ipynb",
   "parameters": {},
   "start_time": "2021-07-27T16:38:50.230843",
   "version": "2.3.3"
  }
 },
 "nbformat": 4,
 "nbformat_minor": 5
}
